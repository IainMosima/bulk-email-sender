{
 "cells": [
  {
   "cell_type": "code",
   "metadata": {
    "ExecuteTime": {
     "end_time": "2025-03-12T17:40:06.211524Z",
     "start_time": "2025-03-12T17:40:06.208546Z"
    }
   },
   "source": [
    "import pandas as pd"
   ],
   "outputs": [],
   "execution_count": 31
  },
  {
   "cell_type": "code",
   "metadata": {
    "ExecuteTime": {
     "end_time": "2025-03-12T17:40:06.230146Z",
     "start_time": "2025-03-12T17:40:06.219497Z"
    }
   },
   "source": [
    "# Read the CSV file\n",
    "df = pd.read_csv('/Users/apple/Desktop/Work/Ascent/bulk-email-sender/prospects-email.csv', \n",
    "                 skiprows=1,  # Skip the title row\n",
    "                 usecols=[1,2,3,4],  # Only use columns with actual data\n",
    "                 names=['COMPANY_NAME', 'DESIGNATION', 'PHONE_NUMBER', 'EMAIL'],  # Define column names\n",
    "                 na_values=[''])  # Convert empty strings to NaN\n",
    "\n",
    "# Clean the data\n",
    "df = df.dropna(subset=['EMAIL']) \n",
    "df = df.reset_index(drop=True) \n",
    "\n",
    "print(\"First few rows of the dataframe:\")\n",
    "print(df.head().to_markdown())\n",
    "print(\"\\nDataframe info:\")\n",
    "print(df.info())"
   ],
   "outputs": [
    {
     "name": "stdout",
     "output_type": "stream",
     "text": [
      "First few rows of the dataframe:\n",
      "|    | COMPANY_NAME    | DESIGNATION                   | PHONE_NUMBER    | EMAIL                       |\n",
      "|---:|:----------------|:------------------------------|:----------------|:----------------------------|\n",
      "|  0 | COMPANY NAME    | DESIGNATION                   | PHONE NUMBER    | EMAIL ADRESS                |\n",
      "|  1 | Bidco Africa    | regional sales head           | +254 67 2821000 | saurabh.suman@bidco-oil.com |\n",
      "|  2 | CCBA kenya      | country lead-Jennifer mbindyo | (011) 848-2600  | jmbindyo@ccbagroup.com      |\n",
      "|  3 | CIC Group       | General manager sales         | +254 703 099120 | njerenga@cic.co.ke          |\n",
      "|  4 | BRITAM HOLDINGS | CHAIRMAN                      | nan             | kmuchiru@britam.com         |\n",
      "\n",
      "Dataframe info:\n",
      "<class 'pandas.core.frame.DataFrame'>\n",
      "RangeIndex: 128 entries, 0 to 127\n",
      "Data columns (total 4 columns):\n",
      " #   Column        Non-Null Count  Dtype \n",
      "---  ------        --------------  ----- \n",
      " 0   COMPANY_NAME  89 non-null     object\n",
      " 1   DESIGNATION   118 non-null    object\n",
      " 2   PHONE_NUMBER  86 non-null     object\n",
      " 3   EMAIL         128 non-null    object\n",
      "dtypes: object(4)\n",
      "memory usage: 4.1+ KB\n",
      "None\n"
     ]
    }
   ],
   "execution_count": 32
  },
  {
   "cell_type": "code",
   "metadata": {
    "ExecuteTime": {
     "end_time": "2025-03-12T17:40:06.253062Z",
     "start_time": "2025-03-12T17:40:06.248496Z"
    }
   },
   "source": [
    "df = df.iloc[1:].reset_index(drop=True)\n",
    "df.head()"
   ],
   "outputs": [
    {
     "data": {
      "text/plain": [
       "        COMPANY_NAME                    DESIGNATION     PHONE_NUMBER  \\\n",
       "0       Bidco Africa            regional sales head  +254 67 2821000   \n",
       "1         CCBA kenya  country lead-Jennifer mbindyo   (011) 848-2600   \n",
       "2          CIC Group          General manager sales  +254 703 099120   \n",
       "3    BRITAM HOLDINGS                       CHAIRMAN              NaN   \n",
       "4  LIBERTY INSURANCE    head of customer experience  +254 711 028000   \n",
       "\n",
       "                              EMAIL  \n",
       "0       saurabh.suman@bidco-oil.com  \n",
       "1            jmbindyo@ccbagroup.com  \n",
       "2                njerenga@cic.co.ke  \n",
       "3               kmuchiru@britam.com  \n",
       "4  angela.rarieya@libertylife.co.ke  "
      ],
      "text/html": [
       "<div>\n",
       "<style scoped>\n",
       "    .dataframe tbody tr th:only-of-type {\n",
       "        vertical-align: middle;\n",
       "    }\n",
       "\n",
       "    .dataframe tbody tr th {\n",
       "        vertical-align: top;\n",
       "    }\n",
       "\n",
       "    .dataframe thead th {\n",
       "        text-align: right;\n",
       "    }\n",
       "</style>\n",
       "<table border=\"1\" class=\"dataframe\">\n",
       "  <thead>\n",
       "    <tr style=\"text-align: right;\">\n",
       "      <th></th>\n",
       "      <th>COMPANY_NAME</th>\n",
       "      <th>DESIGNATION</th>\n",
       "      <th>PHONE_NUMBER</th>\n",
       "      <th>EMAIL</th>\n",
       "    </tr>\n",
       "  </thead>\n",
       "  <tbody>\n",
       "    <tr>\n",
       "      <th>0</th>\n",
       "      <td>Bidco Africa</td>\n",
       "      <td>regional sales head</td>\n",
       "      <td>+254 67 2821000</td>\n",
       "      <td>saurabh.suman@bidco-oil.com</td>\n",
       "    </tr>\n",
       "    <tr>\n",
       "      <th>1</th>\n",
       "      <td>CCBA kenya</td>\n",
       "      <td>country lead-Jennifer mbindyo</td>\n",
       "      <td>(011) 848-2600</td>\n",
       "      <td>jmbindyo@ccbagroup.com</td>\n",
       "    </tr>\n",
       "    <tr>\n",
       "      <th>2</th>\n",
       "      <td>CIC Group</td>\n",
       "      <td>General manager sales</td>\n",
       "      <td>+254 703 099120</td>\n",
       "      <td>njerenga@cic.co.ke</td>\n",
       "    </tr>\n",
       "    <tr>\n",
       "      <th>3</th>\n",
       "      <td>BRITAM HOLDINGS</td>\n",
       "      <td>CHAIRMAN</td>\n",
       "      <td>NaN</td>\n",
       "      <td>kmuchiru@britam.com</td>\n",
       "    </tr>\n",
       "    <tr>\n",
       "      <th>4</th>\n",
       "      <td>LIBERTY INSURANCE</td>\n",
       "      <td>head of customer experience</td>\n",
       "      <td>+254 711 028000</td>\n",
       "      <td>angela.rarieya@libertylife.co.ke</td>\n",
       "    </tr>\n",
       "  </tbody>\n",
       "</table>\n",
       "</div>"
      ]
     },
     "execution_count": 33,
     "metadata": {},
     "output_type": "execute_result"
    }
   ],
   "execution_count": 33
  },
  {
   "cell_type": "code",
   "metadata": {
    "ExecuteTime": {
     "end_time": "2025-03-12T17:40:06.288968Z",
     "start_time": "2025-03-12T17:40:06.284856Z"
    }
   },
   "source": [
    "df_prospects_email = df[[\"EMAIL\"]]\n",
    "df_prospects_email.head()"
   ],
   "outputs": [
    {
     "data": {
      "text/plain": [
       "                              EMAIL\n",
       "0       saurabh.suman@bidco-oil.com\n",
       "1            jmbindyo@ccbagroup.com\n",
       "2                njerenga@cic.co.ke\n",
       "3               kmuchiru@britam.com\n",
       "4  angela.rarieya@libertylife.co.ke"
      ],
      "text/html": [
       "<div>\n",
       "<style scoped>\n",
       "    .dataframe tbody tr th:only-of-type {\n",
       "        vertical-align: middle;\n",
       "    }\n",
       "\n",
       "    .dataframe tbody tr th {\n",
       "        vertical-align: top;\n",
       "    }\n",
       "\n",
       "    .dataframe thead th {\n",
       "        text-align: right;\n",
       "    }\n",
       "</style>\n",
       "<table border=\"1\" class=\"dataframe\">\n",
       "  <thead>\n",
       "    <tr style=\"text-align: right;\">\n",
       "      <th></th>\n",
       "      <th>EMAIL</th>\n",
       "    </tr>\n",
       "  </thead>\n",
       "  <tbody>\n",
       "    <tr>\n",
       "      <th>0</th>\n",
       "      <td>saurabh.suman@bidco-oil.com</td>\n",
       "    </tr>\n",
       "    <tr>\n",
       "      <th>1</th>\n",
       "      <td>jmbindyo@ccbagroup.com</td>\n",
       "    </tr>\n",
       "    <tr>\n",
       "      <th>2</th>\n",
       "      <td>njerenga@cic.co.ke</td>\n",
       "    </tr>\n",
       "    <tr>\n",
       "      <th>3</th>\n",
       "      <td>kmuchiru@britam.com</td>\n",
       "    </tr>\n",
       "    <tr>\n",
       "      <th>4</th>\n",
       "      <td>angela.rarieya@libertylife.co.ke</td>\n",
       "    </tr>\n",
       "  </tbody>\n",
       "</table>\n",
       "</div>"
      ]
     },
     "execution_count": 34,
     "metadata": {},
     "output_type": "execute_result"
    }
   ],
   "execution_count": 34
  },
  {
   "cell_type": "code",
   "metadata": {
    "ExecuteTime": {
     "end_time": "2025-03-12T17:40:06.342507Z",
     "start_time": "2025-03-12T17:40:06.339734Z"
    }
   },
   "source": [
    "df_prospects_email.isna().sum()"
   ],
   "outputs": [
    {
     "data": {
      "text/plain": [
       "EMAIL    0\n",
       "dtype: int64"
      ]
     },
     "execution_count": 35,
     "metadata": {},
     "output_type": "execute_result"
    }
   ],
   "execution_count": 35
  },
  {
   "cell_type": "code",
   "metadata": {
    "ExecuteTime": {
     "end_time": "2025-03-12T17:40:06.411170Z",
     "start_time": "2025-03-12T17:40:06.407502Z"
    }
   },
   "source": [
    "df_prospects_email.loc[:, \"EMAIL\"] = df_prospects_email[\"EMAIL\"].str.strip().str.lower()\n",
    "df_prospects_email.head()"
   ],
   "outputs": [
    {
     "data": {
      "text/plain": [
       "                              EMAIL\n",
       "0       saurabh.suman@bidco-oil.com\n",
       "1            jmbindyo@ccbagroup.com\n",
       "2                njerenga@cic.co.ke\n",
       "3               kmuchiru@britam.com\n",
       "4  angela.rarieya@libertylife.co.ke"
      ],
      "text/html": [
       "<div>\n",
       "<style scoped>\n",
       "    .dataframe tbody tr th:only-of-type {\n",
       "        vertical-align: middle;\n",
       "    }\n",
       "\n",
       "    .dataframe tbody tr th {\n",
       "        vertical-align: top;\n",
       "    }\n",
       "\n",
       "    .dataframe thead th {\n",
       "        text-align: right;\n",
       "    }\n",
       "</style>\n",
       "<table border=\"1\" class=\"dataframe\">\n",
       "  <thead>\n",
       "    <tr style=\"text-align: right;\">\n",
       "      <th></th>\n",
       "      <th>EMAIL</th>\n",
       "    </tr>\n",
       "  </thead>\n",
       "  <tbody>\n",
       "    <tr>\n",
       "      <th>0</th>\n",
       "      <td>saurabh.suman@bidco-oil.com</td>\n",
       "    </tr>\n",
       "    <tr>\n",
       "      <th>1</th>\n",
       "      <td>jmbindyo@ccbagroup.com</td>\n",
       "    </tr>\n",
       "    <tr>\n",
       "      <th>2</th>\n",
       "      <td>njerenga@cic.co.ke</td>\n",
       "    </tr>\n",
       "    <tr>\n",
       "      <th>3</th>\n",
       "      <td>kmuchiru@britam.com</td>\n",
       "    </tr>\n",
       "    <tr>\n",
       "      <th>4</th>\n",
       "      <td>angela.rarieya@libertylife.co.ke</td>\n",
       "    </tr>\n",
       "  </tbody>\n",
       "</table>\n",
       "</div>"
      ]
     },
     "execution_count": 36,
     "metadata": {},
     "output_type": "execute_result"
    }
   ],
   "execution_count": 36
  },
  {
   "cell_type": "code",
   "metadata": {
    "ExecuteTime": {
     "end_time": "2025-03-12T17:40:06.481474Z",
     "start_time": "2025-03-12T17:40:06.478063Z"
    }
   },
   "source": [
    "df_prospects_email = df_prospects_email.rename(columns={\"EMAIL\": \"Emails\"})\n",
    "df_prospects_email.columns"
   ],
   "outputs": [
    {
     "data": {
      "text/plain": [
       "Index(['Emails'], dtype='object')"
      ]
     },
     "execution_count": 37,
     "metadata": {},
     "output_type": "execute_result"
    }
   ],
   "execution_count": 37
  },
  {
   "cell_type": "code",
   "metadata": {
    "ExecuteTime": {
     "end_time": "2025-03-12T17:40:06.566586Z",
     "start_time": "2025-03-12T17:40:06.563675Z"
    }
   },
   "source": [
    "df_prospects_email.duplicated().sum()"
   ],
   "outputs": [
    {
     "data": {
      "text/plain": [
       "np.int64(0)"
      ]
     },
     "execution_count": 38,
     "metadata": {},
     "output_type": "execute_result"
    }
   ],
   "execution_count": 38
  },
  {
   "cell_type": "code",
   "metadata": {
    "ExecuteTime": {
     "end_time": "2025-03-12T17:40:06.624380Z",
     "start_time": "2025-03-12T17:40:06.620575Z"
    }
   },
   "source": [
    "df_prospects_email[\"cc\"] = \"info@ascent-institute.com\"\n",
    "df_prospects_email.head()"
   ],
   "outputs": [
    {
     "data": {
      "text/plain": [
       "                             Emails                         cc\n",
       "0       saurabh.suman@bidco-oil.com  info@ascent-institute.com\n",
       "1            jmbindyo@ccbagroup.com  info@ascent-institute.com\n",
       "2                njerenga@cic.co.ke  info@ascent-institute.com\n",
       "3               kmuchiru@britam.com  info@ascent-institute.com\n",
       "4  angela.rarieya@libertylife.co.ke  info@ascent-institute.com"
      ],
      "text/html": [
       "<div>\n",
       "<style scoped>\n",
       "    .dataframe tbody tr th:only-of-type {\n",
       "        vertical-align: middle;\n",
       "    }\n",
       "\n",
       "    .dataframe tbody tr th {\n",
       "        vertical-align: top;\n",
       "    }\n",
       "\n",
       "    .dataframe thead th {\n",
       "        text-align: right;\n",
       "    }\n",
       "</style>\n",
       "<table border=\"1\" class=\"dataframe\">\n",
       "  <thead>\n",
       "    <tr style=\"text-align: right;\">\n",
       "      <th></th>\n",
       "      <th>Emails</th>\n",
       "      <th>cc</th>\n",
       "    </tr>\n",
       "  </thead>\n",
       "  <tbody>\n",
       "    <tr>\n",
       "      <th>0</th>\n",
       "      <td>saurabh.suman@bidco-oil.com</td>\n",
       "      <td>info@ascent-institute.com</td>\n",
       "    </tr>\n",
       "    <tr>\n",
       "      <th>1</th>\n",
       "      <td>jmbindyo@ccbagroup.com</td>\n",
       "      <td>info@ascent-institute.com</td>\n",
       "    </tr>\n",
       "    <tr>\n",
       "      <th>2</th>\n",
       "      <td>njerenga@cic.co.ke</td>\n",
       "      <td>info@ascent-institute.com</td>\n",
       "    </tr>\n",
       "    <tr>\n",
       "      <th>3</th>\n",
       "      <td>kmuchiru@britam.com</td>\n",
       "      <td>info@ascent-institute.com</td>\n",
       "    </tr>\n",
       "    <tr>\n",
       "      <th>4</th>\n",
       "      <td>angela.rarieya@libertylife.co.ke</td>\n",
       "      <td>info@ascent-institute.com</td>\n",
       "    </tr>\n",
       "  </tbody>\n",
       "</table>\n",
       "</div>"
      ]
     },
     "execution_count": 39,
     "metadata": {},
     "output_type": "execute_result"
    }
   ],
   "execution_count": 39
  },
  {
   "cell_type": "code",
   "metadata": {
    "ExecuteTime": {
     "end_time": "2025-03-12T17:40:06.666404Z",
     "start_time": "2025-03-12T17:40:06.661352Z"
    }
   },
   "source": [
    "df_prospects_email.shape"
   ],
   "outputs": [
    {
     "data": {
      "text/plain": [
       "(127, 2)"
      ]
     },
     "execution_count": 40,
     "metadata": {},
     "output_type": "execute_result"
    }
   ],
   "execution_count": 40
  },
  {
   "cell_type": "code",
   "metadata": {
    "ExecuteTime": {
     "end_time": "2025-03-12T17:40:06.722006Z",
     "start_time": "2025-03-12T17:40:06.716151Z"
    }
   },
   "source": [
    "df_prospects_email.to_csv('prospects-email-cleaned.csv', index=False)"
   ],
   "outputs": [],
   "execution_count": 41
  },
  {
   "cell_type": "code",
   "metadata": {
    "ExecuteTime": {
     "end_time": "2025-03-12T17:40:06.766199Z",
     "start_time": "2025-03-12T17:40:06.759720Z"
    }
   },
   "source": [
    "df_governance = pd.read_csv(\"governance-emails.csv\")\n",
    "df_governance[\"cc\"] = \"info@ascent-institute.com\"\n",
    "df_governance.head()"
   ],
   "outputs": [
    {
     "data": {
      "text/plain": [
       "                              EMAILS                          cc\n",
       "0                     info@cargen.com  info@ascent-institute.com\n",
       "1  elizabeth@charteredengineering.com  info@ascent-institute.com\n",
       "2             info@firstlenders.co.ke  info@ascent-institute.com\n",
       "3            amina@blackwoodhodge.com  info@ascent-institute.com\n",
       "4             sales@hydromaticsea.com  info@ascent-institute.com"
      ],
      "text/html": [
       "<div>\n",
       "<style scoped>\n",
       "    .dataframe tbody tr th:only-of-type {\n",
       "        vertical-align: middle;\n",
       "    }\n",
       "\n",
       "    .dataframe tbody tr th {\n",
       "        vertical-align: top;\n",
       "    }\n",
       "\n",
       "    .dataframe thead th {\n",
       "        text-align: right;\n",
       "    }\n",
       "</style>\n",
       "<table border=\"1\" class=\"dataframe\">\n",
       "  <thead>\n",
       "    <tr style=\"text-align: right;\">\n",
       "      <th></th>\n",
       "      <th>EMAILS</th>\n",
       "      <th>cc</th>\n",
       "    </tr>\n",
       "  </thead>\n",
       "  <tbody>\n",
       "    <tr>\n",
       "      <th>0</th>\n",
       "      <td>info@cargen.com</td>\n",
       "      <td>info@ascent-institute.com</td>\n",
       "    </tr>\n",
       "    <tr>\n",
       "      <th>1</th>\n",
       "      <td>elizabeth@charteredengineering.com</td>\n",
       "      <td>info@ascent-institute.com</td>\n",
       "    </tr>\n",
       "    <tr>\n",
       "      <th>2</th>\n",
       "      <td>info@firstlenders.co.ke</td>\n",
       "      <td>info@ascent-institute.com</td>\n",
       "    </tr>\n",
       "    <tr>\n",
       "      <th>3</th>\n",
       "      <td>amina@blackwoodhodge.com</td>\n",
       "      <td>info@ascent-institute.com</td>\n",
       "    </tr>\n",
       "    <tr>\n",
       "      <th>4</th>\n",
       "      <td>sales@hydromaticsea.com</td>\n",
       "      <td>info@ascent-institute.com</td>\n",
       "    </tr>\n",
       "  </tbody>\n",
       "</table>\n",
       "</div>"
      ]
     },
     "execution_count": 42,
     "metadata": {},
     "output_type": "execute_result"
    }
   ],
   "execution_count": 42
  },
  {
   "cell_type": "code",
   "metadata": {
    "ExecuteTime": {
     "end_time": "2025-03-12T17:40:06.816771Z",
     "start_time": "2025-03-12T17:40:06.811220Z"
    }
   },
   "source": [
    "df_governance = df_governance.rename(columns={\"EMAILS\": \"Emails\"})\n",
    "display(df_governance.head())"
   ],
   "outputs": [
    {
     "data": {
      "text/plain": [
       "                              EMAILS                          cc\n",
       "0                     info@cargen.com  info@ascent-institute.com\n",
       "1  elizabeth@charteredengineering.com  info@ascent-institute.com\n",
       "2             info@firstlenders.co.ke  info@ascent-institute.com\n",
       "3            amina@blackwoodhodge.com  info@ascent-institute.com\n",
       "4             sales@hydromaticsea.com  info@ascent-institute.com"
      ],
      "text/html": [
       "<div>\n",
       "<style scoped>\n",
       "    .dataframe tbody tr th:only-of-type {\n",
       "        vertical-align: middle;\n",
       "    }\n",
       "\n",
       "    .dataframe tbody tr th {\n",
       "        vertical-align: top;\n",
       "    }\n",
       "\n",
       "    .dataframe thead th {\n",
       "        text-align: right;\n",
       "    }\n",
       "</style>\n",
       "<table border=\"1\" class=\"dataframe\">\n",
       "  <thead>\n",
       "    <tr style=\"text-align: right;\">\n",
       "      <th></th>\n",
       "      <th>EMAILS</th>\n",
       "      <th>cc</th>\n",
       "    </tr>\n",
       "  </thead>\n",
       "  <tbody>\n",
       "    <tr>\n",
       "      <th>0</th>\n",
       "      <td>info@cargen.com</td>\n",
       "      <td>info@ascent-institute.com</td>\n",
       "    </tr>\n",
       "    <tr>\n",
       "      <th>1</th>\n",
       "      <td>elizabeth@charteredengineering.com</td>\n",
       "      <td>info@ascent-institute.com</td>\n",
       "    </tr>\n",
       "    <tr>\n",
       "      <th>2</th>\n",
       "      <td>info@firstlenders.co.ke</td>\n",
       "      <td>info@ascent-institute.com</td>\n",
       "    </tr>\n",
       "    <tr>\n",
       "      <th>3</th>\n",
       "      <td>amina@blackwoodhodge.com</td>\n",
       "      <td>info@ascent-institute.com</td>\n",
       "    </tr>\n",
       "    <tr>\n",
       "      <th>4</th>\n",
       "      <td>sales@hydromaticsea.com</td>\n",
       "      <td>info@ascent-institute.com</td>\n",
       "    </tr>\n",
       "  </tbody>\n",
       "</table>\n",
       "</div>"
      ]
     },
     "metadata": {},
     "output_type": "display_data"
    }
   ],
   "execution_count": 43
  },
  {
   "cell_type": "code",
   "metadata": {
    "ExecuteTime": {
     "end_time": "2025-03-12T17:40:06.844643Z",
     "start_time": "2025-03-12T17:40:06.840350Z"
    }
   },
   "source": [
    "df_governance.to_csv('governance-email-cleaned.csv', index=False)\n"
   ],
   "outputs": [],
   "execution_count": 44
  },
  {
   "cell_type": "markdown",
   "metadata": {},
   "source": [
    "# New emails"
   ]
  },
  {
   "cell_type": "code",
   "metadata": {
    "ExecuteTime": {
     "end_time": "2025-03-12T17:40:06.906582Z",
     "start_time": "2025-03-12T17:40:06.902719Z"
    }
   },
   "source": [
    "df_emails_new = pd.read_csv(\"emails-new.csv\")\n",
    "df_emails_new[\"cc\"] = \"info@ascent-institute.com\"\n",
    "print(df_emails_new.columns)\n",
    "print(df_emails_new.head().to_markdown())"
   ],
   "outputs": [
    {
     "name": "stdout",
     "output_type": "stream",
     "text": [
      "Index(['Emails', 'cc'], dtype='object')\n",
      "|    | Emails                   | cc                        |\n",
      "|---:|:-------------------------|:--------------------------|\n",
      "|  0 | swakiomaghanga@gmail.com | info@ascent-institute.com |\n",
      "|  1 | nyonesaj12@yahoo.com     | info@ascent-institute.com |\n",
      "|  2 | paulsimiyu74@gmail.com   | info@ascent-institute.com |\n",
      "|  3 | mutiemota@gmail.com      | info@ascent-institute.com |\n",
      "|  4 | velentiah80@yahoo.com    | info@ascent-institute.com |\n"
     ]
    }
   ],
   "execution_count": 45
  },
  {
   "cell_type": "code",
   "metadata": {
    "ExecuteTime": {
     "end_time": "2025-03-12T17:40:06.964634Z",
     "start_time": "2025-03-12T17:40:06.959946Z"
    }
   },
   "source": [
    "df_prospects_email = pd.read_csv(\"prospects-email-super-cleaned.csv\")\n",
    "df_governance_email = pd.read_csv(\"governance-email-super-cleaned.csv\")\n",
    "print(df_emails_new.columns)\n",
    "print(df_prospects_email.columns)\n",
    "print(df_governance.columns)"
   ],
   "outputs": [
    {
     "name": "stdout",
     "output_type": "stream",
     "text": [
      "Index(['Emails', 'cc'], dtype='object')\n",
      "Index(['Emails', 'cc'], dtype='object')\n",
      "Index(['EMAILS ', 'cc'], dtype='object')\n"
     ]
    }
   ],
   "execution_count": 46
  },
  {
   "cell_type": "code",
   "metadata": {
    "ExecuteTime": {
     "end_time": "2025-03-12T17:40:06.987412Z",
     "start_time": "2025-03-12T17:40:06.984354Z"
    }
   },
   "source": [
    "print(\"Expected length after concating all should be: \", len(df_emails_new) + len(df_prospects_email) + len(df_governance_email))"
   ],
   "outputs": [
    {
     "name": "stdout",
     "output_type": "stream",
     "text": [
      "Expected length after concating all should be:  220\n"
     ]
    }
   ],
   "execution_count": 47
  },
  {
   "cell_type": "code",
   "metadata": {
    "ExecuteTime": {
     "end_time": "2025-03-12T17:40:07.035364Z",
     "start_time": "2025-03-12T17:40:07.030476Z"
    }
   },
   "source": [
    "df_combined = pd.concat([\n",
    "    df_emails_new[['Emails']], \n",
    "    df_prospects_email[['Emails']], \n",
    "    df_governance[['EMAILS ']]\n",
    "], axis=0)\n",
    "display(df_combined.shape)\n",
    "print(df_combined.head().to_markdown())"
   ],
   "outputs": [
    {
     "data": {
      "text/plain": [
       "(349, 2)"
      ]
     },
     "metadata": {},
     "output_type": "display_data"
    },
    {
     "name": "stdout",
     "output_type": "stream",
     "text": [
      "|    | Emails                   |   EMAILS  |\n",
      "|---:|:-------------------------|----------:|\n",
      "|  0 | swakiomaghanga@gmail.com |       nan |\n",
      "|  1 | nyonesaj12@yahoo.com     |       nan |\n",
      "|  2 | paulsimiyu74@gmail.com   |       nan |\n",
      "|  3 | mutiemota@gmail.com      |       nan |\n",
      "|  4 | velentiah80@yahoo.com    |       nan |\n"
     ]
    }
   ],
   "execution_count": 48
  },
  {
   "metadata": {
    "ExecuteTime": {
     "end_time": "2025-03-12T17:40:07.193673Z",
     "start_time": "2025-03-12T17:40:07.187521Z"
    }
   },
   "cell_type": "code",
   "source": [
    "df_combined.dropna(subset=[\"Emails\"], inplace=True)\n",
    "df_combined[\"cc\"] = \"info@ascent-institute.com\"\n",
    "df_combined.head()"
   ],
   "outputs": [
    {
     "data": {
      "text/plain": [
       "                     Emails EMAILS                          cc\n",
       "0  swakiomaghanga@gmail.com     NaN  info@ascent-institute.com\n",
       "1      nyonesaj12@yahoo.com     NaN  info@ascent-institute.com\n",
       "2    paulsimiyu74@gmail.com     NaN  info@ascent-institute.com\n",
       "3       mutiemota@gmail.com     NaN  info@ascent-institute.com\n",
       "4     velentiah80@yahoo.com     NaN  info@ascent-institute.com"
      ],
      "text/html": [
       "<div>\n",
       "<style scoped>\n",
       "    .dataframe tbody tr th:only-of-type {\n",
       "        vertical-align: middle;\n",
       "    }\n",
       "\n",
       "    .dataframe tbody tr th {\n",
       "        vertical-align: top;\n",
       "    }\n",
       "\n",
       "    .dataframe thead th {\n",
       "        text-align: right;\n",
       "    }\n",
       "</style>\n",
       "<table border=\"1\" class=\"dataframe\">\n",
       "  <thead>\n",
       "    <tr style=\"text-align: right;\">\n",
       "      <th></th>\n",
       "      <th>Emails</th>\n",
       "      <th>EMAILS</th>\n",
       "      <th>cc</th>\n",
       "    </tr>\n",
       "  </thead>\n",
       "  <tbody>\n",
       "    <tr>\n",
       "      <th>0</th>\n",
       "      <td>swakiomaghanga@gmail.com</td>\n",
       "      <td>NaN</td>\n",
       "      <td>info@ascent-institute.com</td>\n",
       "    </tr>\n",
       "    <tr>\n",
       "      <th>1</th>\n",
       "      <td>nyonesaj12@yahoo.com</td>\n",
       "      <td>NaN</td>\n",
       "      <td>info@ascent-institute.com</td>\n",
       "    </tr>\n",
       "    <tr>\n",
       "      <th>2</th>\n",
       "      <td>paulsimiyu74@gmail.com</td>\n",
       "      <td>NaN</td>\n",
       "      <td>info@ascent-institute.com</td>\n",
       "    </tr>\n",
       "    <tr>\n",
       "      <th>3</th>\n",
       "      <td>mutiemota@gmail.com</td>\n",
       "      <td>NaN</td>\n",
       "      <td>info@ascent-institute.com</td>\n",
       "    </tr>\n",
       "    <tr>\n",
       "      <th>4</th>\n",
       "      <td>velentiah80@yahoo.com</td>\n",
       "      <td>NaN</td>\n",
       "      <td>info@ascent-institute.com</td>\n",
       "    </tr>\n",
       "  </tbody>\n",
       "</table>\n",
       "</div>"
      ]
     },
     "execution_count": 49,
     "metadata": {},
     "output_type": "execute_result"
    }
   ],
   "execution_count": 49
  },
  {
   "cell_type": "code",
   "metadata": {
    "ExecuteTime": {
     "end_time": "2025-03-12T17:40:25.928259Z",
     "start_time": "2025-03-12T17:40:25.920444Z"
    }
   },
   "source": [
    "df_combined[\"cc\"] = \"info@ascent-institute.com\"\n",
    "# df_combined.dropna(subset=[\"EMAILS \"], inplace=True)\n",
    "df_combined.info()"
   ],
   "outputs": [
    {
     "name": "stdout",
     "output_type": "stream",
     "text": [
      "<class 'pandas.core.frame.DataFrame'>\n",
      "Index: 164 entries, 0 to 74\n",
      "Data columns (total 3 columns):\n",
      " #   Column   Non-Null Count  Dtype \n",
      "---  ------   --------------  ----- \n",
      " 0   Emails   164 non-null    object\n",
      " 1   EMAILS   0 non-null      object\n",
      " 2   cc       164 non-null    object\n",
      "dtypes: object(3)\n",
      "memory usage: 5.1+ KB\n"
     ]
    }
   ],
   "execution_count": 50
  },
  {
   "metadata": {
    "ExecuteTime": {
     "end_time": "2025-03-12T17:41:58.439285Z",
     "start_time": "2025-03-12T17:41:58.432643Z"
    }
   },
   "cell_type": "code",
   "source": [
    "df_combined.drop_duplicates(subset=[\"Emails\"], inplace=True)\n",
    "df_combined.tail()"
   ],
   "outputs": [
    {
     "data": {
      "text/plain": [
       "                                           Emails EMAILS   \\\n",
       "70                      miriam@scopeandimpact.com     NaN   \n",
       "71                          jkarasha@sanlam.co.ke     NaN   \n",
       "72                  james.waweru@apainsurance.org     NaN   \n",
       "73                   manan.desai@apainsurance.org     NaN   \n",
       "74  info@dimkessacco.co.ke , hr@dimkessacco.co.ke     NaN   \n",
       "\n",
       "                           cc  \n",
       "70  info@ascent-institute.com  \n",
       "71  info@ascent-institute.com  \n",
       "72  info@ascent-institute.com  \n",
       "73  info@ascent-institute.com  \n",
       "74  info@ascent-institute.com  "
      ],
      "text/html": [
       "<div>\n",
       "<style scoped>\n",
       "    .dataframe tbody tr th:only-of-type {\n",
       "        vertical-align: middle;\n",
       "    }\n",
       "\n",
       "    .dataframe tbody tr th {\n",
       "        vertical-align: top;\n",
       "    }\n",
       "\n",
       "    .dataframe thead th {\n",
       "        text-align: right;\n",
       "    }\n",
       "</style>\n",
       "<table border=\"1\" class=\"dataframe\">\n",
       "  <thead>\n",
       "    <tr style=\"text-align: right;\">\n",
       "      <th></th>\n",
       "      <th>Emails</th>\n",
       "      <th>EMAILS</th>\n",
       "      <th>cc</th>\n",
       "    </tr>\n",
       "  </thead>\n",
       "  <tbody>\n",
       "    <tr>\n",
       "      <th>70</th>\n",
       "      <td>miriam@scopeandimpact.com</td>\n",
       "      <td>NaN</td>\n",
       "      <td>info@ascent-institute.com</td>\n",
       "    </tr>\n",
       "    <tr>\n",
       "      <th>71</th>\n",
       "      <td>jkarasha@sanlam.co.ke</td>\n",
       "      <td>NaN</td>\n",
       "      <td>info@ascent-institute.com</td>\n",
       "    </tr>\n",
       "    <tr>\n",
       "      <th>72</th>\n",
       "      <td>james.waweru@apainsurance.org</td>\n",
       "      <td>NaN</td>\n",
       "      <td>info@ascent-institute.com</td>\n",
       "    </tr>\n",
       "    <tr>\n",
       "      <th>73</th>\n",
       "      <td>manan.desai@apainsurance.org</td>\n",
       "      <td>NaN</td>\n",
       "      <td>info@ascent-institute.com</td>\n",
       "    </tr>\n",
       "    <tr>\n",
       "      <th>74</th>\n",
       "      <td>info@dimkessacco.co.ke , hr@dimkessacco.co.ke</td>\n",
       "      <td>NaN</td>\n",
       "      <td>info@ascent-institute.com</td>\n",
       "    </tr>\n",
       "  </tbody>\n",
       "</table>\n",
       "</div>"
      ]
     },
     "execution_count": 51,
     "metadata": {},
     "output_type": "execute_result"
    }
   ],
   "execution_count": 51
  },
  {
   "cell_type": "code",
   "metadata": {
    "ExecuteTime": {
     "end_time": "2025-03-12T17:43:54.509841Z",
     "start_time": "2025-03-12T17:43:54.057234Z"
    }
   },
   "source": [
    "df_combined = df_combined.drop(columns=[\"EMAILS \"])\n",
    "df_combined.columns"
   ],
   "outputs": [
    {
     "ename": "KeyError",
     "evalue": "\"['EMAILS '] not found in axis\"",
     "output_type": "error",
     "traceback": [
      "\u001B[0;31m---------------------------------------------------------------------------\u001B[0m",
      "\u001B[0;31mKeyError\u001B[0m                                  Traceback (most recent call last)",
      "Cell \u001B[0;32mIn[54], line 1\u001B[0m\n\u001B[0;32m----> 1\u001B[0m df_combined \u001B[38;5;241m=\u001B[39m \u001B[43mdf_combined\u001B[49m\u001B[38;5;241;43m.\u001B[39;49m\u001B[43mdrop\u001B[49m\u001B[43m(\u001B[49m\u001B[43mcolumns\u001B[49m\u001B[38;5;241;43m=\u001B[39;49m\u001B[43m[\u001B[49m\u001B[38;5;124;43m\"\u001B[39;49m\u001B[38;5;124;43mEMAILS \u001B[39;49m\u001B[38;5;124;43m\"\u001B[39;49m\u001B[43m]\u001B[49m\u001B[43m)\u001B[49m\n\u001B[1;32m      2\u001B[0m df_combined\u001B[38;5;241m.\u001B[39mcolumns\n",
      "File \u001B[0;32m~/Desktop/Work/Ascent/bulk-email-sender/.venv/lib/python3.13/site-packages/pandas/core/frame.py:5581\u001B[0m, in \u001B[0;36mDataFrame.drop\u001B[0;34m(self, labels, axis, index, columns, level, inplace, errors)\u001B[0m\n\u001B[1;32m   5433\u001B[0m \u001B[38;5;28;01mdef\u001B[39;00m\u001B[38;5;250m \u001B[39m\u001B[38;5;21mdrop\u001B[39m(\n\u001B[1;32m   5434\u001B[0m     \u001B[38;5;28mself\u001B[39m,\n\u001B[1;32m   5435\u001B[0m     labels: IndexLabel \u001B[38;5;241m|\u001B[39m \u001B[38;5;28;01mNone\u001B[39;00m \u001B[38;5;241m=\u001B[39m \u001B[38;5;28;01mNone\u001B[39;00m,\n\u001B[0;32m   (...)\u001B[0m\n\u001B[1;32m   5442\u001B[0m     errors: IgnoreRaise \u001B[38;5;241m=\u001B[39m \u001B[38;5;124m\"\u001B[39m\u001B[38;5;124mraise\u001B[39m\u001B[38;5;124m\"\u001B[39m,\n\u001B[1;32m   5443\u001B[0m ) \u001B[38;5;241m-\u001B[39m\u001B[38;5;241m>\u001B[39m DataFrame \u001B[38;5;241m|\u001B[39m \u001B[38;5;28;01mNone\u001B[39;00m:\n\u001B[1;32m   5444\u001B[0m \u001B[38;5;250m    \u001B[39m\u001B[38;5;124;03m\"\"\"\u001B[39;00m\n\u001B[1;32m   5445\u001B[0m \u001B[38;5;124;03m    Drop specified labels from rows or columns.\u001B[39;00m\n\u001B[1;32m   5446\u001B[0m \n\u001B[0;32m   (...)\u001B[0m\n\u001B[1;32m   5579\u001B[0m \u001B[38;5;124;03m            weight  1.0     0.8\u001B[39;00m\n\u001B[1;32m   5580\u001B[0m \u001B[38;5;124;03m    \"\"\"\u001B[39;00m\n\u001B[0;32m-> 5581\u001B[0m     \u001B[38;5;28;01mreturn\u001B[39;00m \u001B[38;5;28;43msuper\u001B[39;49m\u001B[43m(\u001B[49m\u001B[43m)\u001B[49m\u001B[38;5;241;43m.\u001B[39;49m\u001B[43mdrop\u001B[49m\u001B[43m(\u001B[49m\n\u001B[1;32m   5582\u001B[0m \u001B[43m        \u001B[49m\u001B[43mlabels\u001B[49m\u001B[38;5;241;43m=\u001B[39;49m\u001B[43mlabels\u001B[49m\u001B[43m,\u001B[49m\n\u001B[1;32m   5583\u001B[0m \u001B[43m        \u001B[49m\u001B[43maxis\u001B[49m\u001B[38;5;241;43m=\u001B[39;49m\u001B[43maxis\u001B[49m\u001B[43m,\u001B[49m\n\u001B[1;32m   5584\u001B[0m \u001B[43m        \u001B[49m\u001B[43mindex\u001B[49m\u001B[38;5;241;43m=\u001B[39;49m\u001B[43mindex\u001B[49m\u001B[43m,\u001B[49m\n\u001B[1;32m   5585\u001B[0m \u001B[43m        \u001B[49m\u001B[43mcolumns\u001B[49m\u001B[38;5;241;43m=\u001B[39;49m\u001B[43mcolumns\u001B[49m\u001B[43m,\u001B[49m\n\u001B[1;32m   5586\u001B[0m \u001B[43m        \u001B[49m\u001B[43mlevel\u001B[49m\u001B[38;5;241;43m=\u001B[39;49m\u001B[43mlevel\u001B[49m\u001B[43m,\u001B[49m\n\u001B[1;32m   5587\u001B[0m \u001B[43m        \u001B[49m\u001B[43minplace\u001B[49m\u001B[38;5;241;43m=\u001B[39;49m\u001B[43minplace\u001B[49m\u001B[43m,\u001B[49m\n\u001B[1;32m   5588\u001B[0m \u001B[43m        \u001B[49m\u001B[43merrors\u001B[49m\u001B[38;5;241;43m=\u001B[39;49m\u001B[43merrors\u001B[49m\u001B[43m,\u001B[49m\n\u001B[1;32m   5589\u001B[0m \u001B[43m    \u001B[49m\u001B[43m)\u001B[49m\n",
      "File \u001B[0;32m~/Desktop/Work/Ascent/bulk-email-sender/.venv/lib/python3.13/site-packages/pandas/core/generic.py:4788\u001B[0m, in \u001B[0;36mNDFrame.drop\u001B[0;34m(self, labels, axis, index, columns, level, inplace, errors)\u001B[0m\n\u001B[1;32m   4786\u001B[0m \u001B[38;5;28;01mfor\u001B[39;00m axis, labels \u001B[38;5;129;01min\u001B[39;00m axes\u001B[38;5;241m.\u001B[39mitems():\n\u001B[1;32m   4787\u001B[0m     \u001B[38;5;28;01mif\u001B[39;00m labels \u001B[38;5;129;01mis\u001B[39;00m \u001B[38;5;129;01mnot\u001B[39;00m \u001B[38;5;28;01mNone\u001B[39;00m:\n\u001B[0;32m-> 4788\u001B[0m         obj \u001B[38;5;241m=\u001B[39m \u001B[43mobj\u001B[49m\u001B[38;5;241;43m.\u001B[39;49m\u001B[43m_drop_axis\u001B[49m\u001B[43m(\u001B[49m\u001B[43mlabels\u001B[49m\u001B[43m,\u001B[49m\u001B[43m \u001B[49m\u001B[43maxis\u001B[49m\u001B[43m,\u001B[49m\u001B[43m \u001B[49m\u001B[43mlevel\u001B[49m\u001B[38;5;241;43m=\u001B[39;49m\u001B[43mlevel\u001B[49m\u001B[43m,\u001B[49m\u001B[43m \u001B[49m\u001B[43merrors\u001B[49m\u001B[38;5;241;43m=\u001B[39;49m\u001B[43merrors\u001B[49m\u001B[43m)\u001B[49m\n\u001B[1;32m   4790\u001B[0m \u001B[38;5;28;01mif\u001B[39;00m inplace:\n\u001B[1;32m   4791\u001B[0m     \u001B[38;5;28mself\u001B[39m\u001B[38;5;241m.\u001B[39m_update_inplace(obj)\n",
      "File \u001B[0;32m~/Desktop/Work/Ascent/bulk-email-sender/.venv/lib/python3.13/site-packages/pandas/core/generic.py:4830\u001B[0m, in \u001B[0;36mNDFrame._drop_axis\u001B[0;34m(self, labels, axis, level, errors, only_slice)\u001B[0m\n\u001B[1;32m   4828\u001B[0m         new_axis \u001B[38;5;241m=\u001B[39m axis\u001B[38;5;241m.\u001B[39mdrop(labels, level\u001B[38;5;241m=\u001B[39mlevel, errors\u001B[38;5;241m=\u001B[39merrors)\n\u001B[1;32m   4829\u001B[0m     \u001B[38;5;28;01melse\u001B[39;00m:\n\u001B[0;32m-> 4830\u001B[0m         new_axis \u001B[38;5;241m=\u001B[39m \u001B[43maxis\u001B[49m\u001B[38;5;241;43m.\u001B[39;49m\u001B[43mdrop\u001B[49m\u001B[43m(\u001B[49m\u001B[43mlabels\u001B[49m\u001B[43m,\u001B[49m\u001B[43m \u001B[49m\u001B[43merrors\u001B[49m\u001B[38;5;241;43m=\u001B[39;49m\u001B[43merrors\u001B[49m\u001B[43m)\u001B[49m\n\u001B[1;32m   4831\u001B[0m     indexer \u001B[38;5;241m=\u001B[39m axis\u001B[38;5;241m.\u001B[39mget_indexer(new_axis)\n\u001B[1;32m   4833\u001B[0m \u001B[38;5;66;03m# Case for non-unique axis\u001B[39;00m\n\u001B[1;32m   4834\u001B[0m \u001B[38;5;28;01melse\u001B[39;00m:\n",
      "File \u001B[0;32m~/Desktop/Work/Ascent/bulk-email-sender/.venv/lib/python3.13/site-packages/pandas/core/indexes/base.py:7070\u001B[0m, in \u001B[0;36mIndex.drop\u001B[0;34m(self, labels, errors)\u001B[0m\n\u001B[1;32m   7068\u001B[0m \u001B[38;5;28;01mif\u001B[39;00m mask\u001B[38;5;241m.\u001B[39many():\n\u001B[1;32m   7069\u001B[0m     \u001B[38;5;28;01mif\u001B[39;00m errors \u001B[38;5;241m!=\u001B[39m \u001B[38;5;124m\"\u001B[39m\u001B[38;5;124mignore\u001B[39m\u001B[38;5;124m\"\u001B[39m:\n\u001B[0;32m-> 7070\u001B[0m         \u001B[38;5;28;01mraise\u001B[39;00m \u001B[38;5;167;01mKeyError\u001B[39;00m(\u001B[38;5;124mf\u001B[39m\u001B[38;5;124m\"\u001B[39m\u001B[38;5;132;01m{\u001B[39;00mlabels[mask]\u001B[38;5;241m.\u001B[39mtolist()\u001B[38;5;132;01m}\u001B[39;00m\u001B[38;5;124m not found in axis\u001B[39m\u001B[38;5;124m\"\u001B[39m)\n\u001B[1;32m   7071\u001B[0m     indexer \u001B[38;5;241m=\u001B[39m indexer[\u001B[38;5;241m~\u001B[39mmask]\n\u001B[1;32m   7072\u001B[0m \u001B[38;5;28;01mreturn\u001B[39;00m \u001B[38;5;28mself\u001B[39m\u001B[38;5;241m.\u001B[39mdelete(indexer)\n",
      "\u001B[0;31mKeyError\u001B[0m: \"['EMAILS '] not found in axis\""
     ]
    }
   ],
   "execution_count": 54
  },
  {
   "cell_type": "code",
   "metadata": {
    "ExecuteTime": {
     "end_time": "2025-03-12T17:44:30.174900Z",
     "start_time": "2025-03-12T17:44:30.170797Z"
    }
   },
   "source": [
    "df_combined.to_csv('combined-emails-cleaned.csv', index=False)"
   ],
   "outputs": [],
   "execution_count": 55
  }
 ],
 "metadata": {
  "kernelspec": {
   "display_name": ".venv",
   "language": "python",
   "name": "python3"
  },
  "language_info": {
   "codemirror_mode": {
    "name": "ipython",
    "version": 3
   },
   "file_extension": ".py",
   "mimetype": "text/x-python",
   "name": "python",
   "nbconvert_exporter": "python",
   "pygments_lexer": "ipython3",
   "version": "3.9.6"
  }
 },
 "nbformat": 4,
 "nbformat_minor": 2
}
