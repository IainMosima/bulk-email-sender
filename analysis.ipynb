{
 "cells": [
  {
   "cell_type": "code",
   "metadata": {
    "ExecuteTime": {
     "end_time": "2025-03-14T08:26:10.792796Z",
     "start_time": "2025-03-14T08:26:10.790200Z"
    }
   },
   "source": "import pandas as pd",
   "outputs": [],
   "execution_count": 64
  },
  {
   "cell_type": "code",
   "metadata": {
    "ExecuteTime": {
     "end_time": "2025-03-14T08:26:11.956559Z",
     "start_time": "2025-03-14T08:26:11.944962Z"
    }
   },
   "source": [
    "# Read the CSV file\n",
    "df = pd.read_csv('/Users/apple/Desktop/Work/Ascent/bulk-email-sender/prospects-email.csv', \n",
    "                 skiprows=1,  # Skip the title row\n",
    "                 usecols=[1,2,3,4],  # Only use columns with actual data\n",
    "                 names=['COMPANY_NAME', 'DESIGNATION', 'PHONE_NUMBER', 'EMAIL'],  # Define column names\n",
    "                 na_values=[''])  # Convert empty strings to NaN\n",
    "\n",
    "# Clean the data\n",
    "df = df.dropna(subset=['EMAIL']) \n",
    "df = df.reset_index(drop=True) \n",
    "\n",
    "print(\"First few rows of the dataframe:\")\n",
    "print(df.head().to_markdown())\n",
    "print(\"\\nDataframe info:\")\n",
    "print(df.info())"
   ],
   "outputs": [
    {
     "name": "stdout",
     "output_type": "stream",
     "text": [
      "First few rows of the dataframe:\n",
      "|    | COMPANY_NAME    | DESIGNATION                   | PHONE_NUMBER    | EMAIL                       |\n",
      "|---:|:----------------|:------------------------------|:----------------|:----------------------------|\n",
      "|  0 | COMPANY NAME    | DESIGNATION                   | PHONE NUMBER    | EMAIL ADRESS                |\n",
      "|  1 | Bidco Africa    | regional sales head           | +254 67 2821000 | saurabh.suman@bidco-oil.com |\n",
      "|  2 | CCBA kenya      | country lead-Jennifer mbindyo | (011) 848-2600  | jmbindyo@ccbagroup.com      |\n",
      "|  3 | CIC Group       | General manager sales         | +254 703 099120 | njerenga@cic.co.ke          |\n",
      "|  4 | BRITAM HOLDINGS | CHAIRMAN                      | nan             | kmuchiru@britam.com         |\n",
      "\n",
      "Dataframe info:\n",
      "<class 'pandas.core.frame.DataFrame'>\n",
      "RangeIndex: 128 entries, 0 to 127\n",
      "Data columns (total 4 columns):\n",
      " #   Column        Non-Null Count  Dtype \n",
      "---  ------        --------------  ----- \n",
      " 0   COMPANY_NAME  89 non-null     object\n",
      " 1   DESIGNATION   118 non-null    object\n",
      " 2   PHONE_NUMBER  86 non-null     object\n",
      " 3   EMAIL         128 non-null    object\n",
      "dtypes: object(4)\n",
      "memory usage: 4.1+ KB\n",
      "None\n"
     ]
    }
   ],
   "execution_count": 65
  },
  {
   "cell_type": "code",
   "metadata": {
    "ExecuteTime": {
     "end_time": "2025-03-14T08:26:12.098036Z",
     "start_time": "2025-03-14T08:26:12.093203Z"
    }
   },
   "source": [
    "df = df.iloc[1:].reset_index(drop=True)\n",
    "df.head()"
   ],
   "outputs": [
    {
     "data": {
      "text/plain": [
       "        COMPANY_NAME                    DESIGNATION     PHONE_NUMBER  \\\n",
       "0       Bidco Africa            regional sales head  +254 67 2821000   \n",
       "1         CCBA kenya  country lead-Jennifer mbindyo   (011) 848-2600   \n",
       "2          CIC Group          General manager sales  +254 703 099120   \n",
       "3    BRITAM HOLDINGS                       CHAIRMAN              NaN   \n",
       "4  LIBERTY INSURANCE    head of customer experience  +254 711 028000   \n",
       "\n",
       "                              EMAIL  \n",
       "0       saurabh.suman@bidco-oil.com  \n",
       "1            jmbindyo@ccbagroup.com  \n",
       "2                njerenga@cic.co.ke  \n",
       "3               kmuchiru@britam.com  \n",
       "4  angela.rarieya@libertylife.co.ke  "
      ],
      "text/html": [
       "<div>\n",
       "<style scoped>\n",
       "    .dataframe tbody tr th:only-of-type {\n",
       "        vertical-align: middle;\n",
       "    }\n",
       "\n",
       "    .dataframe tbody tr th {\n",
       "        vertical-align: top;\n",
       "    }\n",
       "\n",
       "    .dataframe thead th {\n",
       "        text-align: right;\n",
       "    }\n",
       "</style>\n",
       "<table border=\"1\" class=\"dataframe\">\n",
       "  <thead>\n",
       "    <tr style=\"text-align: right;\">\n",
       "      <th></th>\n",
       "      <th>COMPANY_NAME</th>\n",
       "      <th>DESIGNATION</th>\n",
       "      <th>PHONE_NUMBER</th>\n",
       "      <th>EMAIL</th>\n",
       "    </tr>\n",
       "  </thead>\n",
       "  <tbody>\n",
       "    <tr>\n",
       "      <th>0</th>\n",
       "      <td>Bidco Africa</td>\n",
       "      <td>regional sales head</td>\n",
       "      <td>+254 67 2821000</td>\n",
       "      <td>saurabh.suman@bidco-oil.com</td>\n",
       "    </tr>\n",
       "    <tr>\n",
       "      <th>1</th>\n",
       "      <td>CCBA kenya</td>\n",
       "      <td>country lead-Jennifer mbindyo</td>\n",
       "      <td>(011) 848-2600</td>\n",
       "      <td>jmbindyo@ccbagroup.com</td>\n",
       "    </tr>\n",
       "    <tr>\n",
       "      <th>2</th>\n",
       "      <td>CIC Group</td>\n",
       "      <td>General manager sales</td>\n",
       "      <td>+254 703 099120</td>\n",
       "      <td>njerenga@cic.co.ke</td>\n",
       "    </tr>\n",
       "    <tr>\n",
       "      <th>3</th>\n",
       "      <td>BRITAM HOLDINGS</td>\n",
       "      <td>CHAIRMAN</td>\n",
       "      <td>NaN</td>\n",
       "      <td>kmuchiru@britam.com</td>\n",
       "    </tr>\n",
       "    <tr>\n",
       "      <th>4</th>\n",
       "      <td>LIBERTY INSURANCE</td>\n",
       "      <td>head of customer experience</td>\n",
       "      <td>+254 711 028000</td>\n",
       "      <td>angela.rarieya@libertylife.co.ke</td>\n",
       "    </tr>\n",
       "  </tbody>\n",
       "</table>\n",
       "</div>"
      ]
     },
     "execution_count": 66,
     "metadata": {},
     "output_type": "execute_result"
    }
   ],
   "execution_count": 66
  },
  {
   "cell_type": "code",
   "metadata": {
    "ExecuteTime": {
     "end_time": "2025-03-14T08:26:12.225943Z",
     "start_time": "2025-03-14T08:26:12.221392Z"
    }
   },
   "source": [
    "df_prospects_email = df[[\"EMAIL\"]]\n",
    "df_prospects_email.head()"
   ],
   "outputs": [
    {
     "data": {
      "text/plain": [
       "                              EMAIL\n",
       "0       saurabh.suman@bidco-oil.com\n",
       "1            jmbindyo@ccbagroup.com\n",
       "2                njerenga@cic.co.ke\n",
       "3               kmuchiru@britam.com\n",
       "4  angela.rarieya@libertylife.co.ke"
      ],
      "text/html": [
       "<div>\n",
       "<style scoped>\n",
       "    .dataframe tbody tr th:only-of-type {\n",
       "        vertical-align: middle;\n",
       "    }\n",
       "\n",
       "    .dataframe tbody tr th {\n",
       "        vertical-align: top;\n",
       "    }\n",
       "\n",
       "    .dataframe thead th {\n",
       "        text-align: right;\n",
       "    }\n",
       "</style>\n",
       "<table border=\"1\" class=\"dataframe\">\n",
       "  <thead>\n",
       "    <tr style=\"text-align: right;\">\n",
       "      <th></th>\n",
       "      <th>EMAIL</th>\n",
       "    </tr>\n",
       "  </thead>\n",
       "  <tbody>\n",
       "    <tr>\n",
       "      <th>0</th>\n",
       "      <td>saurabh.suman@bidco-oil.com</td>\n",
       "    </tr>\n",
       "    <tr>\n",
       "      <th>1</th>\n",
       "      <td>jmbindyo@ccbagroup.com</td>\n",
       "    </tr>\n",
       "    <tr>\n",
       "      <th>2</th>\n",
       "      <td>njerenga@cic.co.ke</td>\n",
       "    </tr>\n",
       "    <tr>\n",
       "      <th>3</th>\n",
       "      <td>kmuchiru@britam.com</td>\n",
       "    </tr>\n",
       "    <tr>\n",
       "      <th>4</th>\n",
       "      <td>angela.rarieya@libertylife.co.ke</td>\n",
       "    </tr>\n",
       "  </tbody>\n",
       "</table>\n",
       "</div>"
      ]
     },
     "execution_count": 67,
     "metadata": {},
     "output_type": "execute_result"
    }
   ],
   "execution_count": 67
  },
  {
   "cell_type": "code",
   "metadata": {
    "ExecuteTime": {
     "end_time": "2025-03-14T08:26:12.343004Z",
     "start_time": "2025-03-14T08:26:12.338726Z"
    }
   },
   "source": [
    "df_prospects_email.isna().sum()"
   ],
   "outputs": [
    {
     "data": {
      "text/plain": [
       "EMAIL    0\n",
       "dtype: int64"
      ]
     },
     "execution_count": 68,
     "metadata": {},
     "output_type": "execute_result"
    }
   ],
   "execution_count": 68
  },
  {
   "cell_type": "code",
   "metadata": {
    "ExecuteTime": {
     "end_time": "2025-03-14T08:26:12.463769Z",
     "start_time": "2025-03-14T08:26:12.459208Z"
    }
   },
   "source": [
    "df_prospects_email.loc[:, \"EMAIL\"] = df_prospects_email[\"EMAIL\"].str.strip().str.lower()\n",
    "df_prospects_email.head()"
   ],
   "outputs": [
    {
     "data": {
      "text/plain": [
       "                              EMAIL\n",
       "0       saurabh.suman@bidco-oil.com\n",
       "1            jmbindyo@ccbagroup.com\n",
       "2                njerenga@cic.co.ke\n",
       "3               kmuchiru@britam.com\n",
       "4  angela.rarieya@libertylife.co.ke"
      ],
      "text/html": [
       "<div>\n",
       "<style scoped>\n",
       "    .dataframe tbody tr th:only-of-type {\n",
       "        vertical-align: middle;\n",
       "    }\n",
       "\n",
       "    .dataframe tbody tr th {\n",
       "        vertical-align: top;\n",
       "    }\n",
       "\n",
       "    .dataframe thead th {\n",
       "        text-align: right;\n",
       "    }\n",
       "</style>\n",
       "<table border=\"1\" class=\"dataframe\">\n",
       "  <thead>\n",
       "    <tr style=\"text-align: right;\">\n",
       "      <th></th>\n",
       "      <th>EMAIL</th>\n",
       "    </tr>\n",
       "  </thead>\n",
       "  <tbody>\n",
       "    <tr>\n",
       "      <th>0</th>\n",
       "      <td>saurabh.suman@bidco-oil.com</td>\n",
       "    </tr>\n",
       "    <tr>\n",
       "      <th>1</th>\n",
       "      <td>jmbindyo@ccbagroup.com</td>\n",
       "    </tr>\n",
       "    <tr>\n",
       "      <th>2</th>\n",
       "      <td>njerenga@cic.co.ke</td>\n",
       "    </tr>\n",
       "    <tr>\n",
       "      <th>3</th>\n",
       "      <td>kmuchiru@britam.com</td>\n",
       "    </tr>\n",
       "    <tr>\n",
       "      <th>4</th>\n",
       "      <td>angela.rarieya@libertylife.co.ke</td>\n",
       "    </tr>\n",
       "  </tbody>\n",
       "</table>\n",
       "</div>"
      ]
     },
     "execution_count": 69,
     "metadata": {},
     "output_type": "execute_result"
    }
   ],
   "execution_count": 69
  },
  {
   "cell_type": "code",
   "metadata": {
    "ExecuteTime": {
     "end_time": "2025-03-14T08:26:12.608092Z",
     "start_time": "2025-03-14T08:26:12.603502Z"
    }
   },
   "source": [
    "df_prospects_email = df_prospects_email.rename(columns={\"EMAIL\": \"Emails\"})\n",
    "df_prospects_email.columns"
   ],
   "outputs": [
    {
     "data": {
      "text/plain": [
       "Index(['Emails'], dtype='object')"
      ]
     },
     "execution_count": 70,
     "metadata": {},
     "output_type": "execute_result"
    }
   ],
   "execution_count": 70
  },
  {
   "cell_type": "code",
   "metadata": {
    "ExecuteTime": {
     "end_time": "2025-03-14T08:26:12.733611Z",
     "start_time": "2025-03-14T08:26:12.730518Z"
    }
   },
   "source": [
    "df_prospects_email.duplicated().sum()"
   ],
   "outputs": [
    {
     "data": {
      "text/plain": [
       "np.int64(0)"
      ]
     },
     "execution_count": 71,
     "metadata": {},
     "output_type": "execute_result"
    }
   ],
   "execution_count": 71
  },
  {
   "cell_type": "code",
   "metadata": {
    "ExecuteTime": {
     "end_time": "2025-03-14T08:26:12.896736Z",
     "start_time": "2025-03-14T08:26:12.892059Z"
    }
   },
   "source": [
    "df_prospects_email[\"cc\"] = \"info@ascent-institute.com\"\n",
    "df_prospects_email.head()"
   ],
   "outputs": [
    {
     "data": {
      "text/plain": [
       "                             Emails                         cc\n",
       "0       saurabh.suman@bidco-oil.com  info@ascent-institute.com\n",
       "1            jmbindyo@ccbagroup.com  info@ascent-institute.com\n",
       "2                njerenga@cic.co.ke  info@ascent-institute.com\n",
       "3               kmuchiru@britam.com  info@ascent-institute.com\n",
       "4  angela.rarieya@libertylife.co.ke  info@ascent-institute.com"
      ],
      "text/html": [
       "<div>\n",
       "<style scoped>\n",
       "    .dataframe tbody tr th:only-of-type {\n",
       "        vertical-align: middle;\n",
       "    }\n",
       "\n",
       "    .dataframe tbody tr th {\n",
       "        vertical-align: top;\n",
       "    }\n",
       "\n",
       "    .dataframe thead th {\n",
       "        text-align: right;\n",
       "    }\n",
       "</style>\n",
       "<table border=\"1\" class=\"dataframe\">\n",
       "  <thead>\n",
       "    <tr style=\"text-align: right;\">\n",
       "      <th></th>\n",
       "      <th>Emails</th>\n",
       "      <th>cc</th>\n",
       "    </tr>\n",
       "  </thead>\n",
       "  <tbody>\n",
       "    <tr>\n",
       "      <th>0</th>\n",
       "      <td>saurabh.suman@bidco-oil.com</td>\n",
       "      <td>info@ascent-institute.com</td>\n",
       "    </tr>\n",
       "    <tr>\n",
       "      <th>1</th>\n",
       "      <td>jmbindyo@ccbagroup.com</td>\n",
       "      <td>info@ascent-institute.com</td>\n",
       "    </tr>\n",
       "    <tr>\n",
       "      <th>2</th>\n",
       "      <td>njerenga@cic.co.ke</td>\n",
       "      <td>info@ascent-institute.com</td>\n",
       "    </tr>\n",
       "    <tr>\n",
       "      <th>3</th>\n",
       "      <td>kmuchiru@britam.com</td>\n",
       "      <td>info@ascent-institute.com</td>\n",
       "    </tr>\n",
       "    <tr>\n",
       "      <th>4</th>\n",
       "      <td>angela.rarieya@libertylife.co.ke</td>\n",
       "      <td>info@ascent-institute.com</td>\n",
       "    </tr>\n",
       "  </tbody>\n",
       "</table>\n",
       "</div>"
      ]
     },
     "execution_count": 72,
     "metadata": {},
     "output_type": "execute_result"
    }
   ],
   "execution_count": 72
  },
  {
   "cell_type": "code",
   "metadata": {
    "ExecuteTime": {
     "end_time": "2025-03-14T08:26:13.045992Z",
     "start_time": "2025-03-14T08:26:13.042887Z"
    }
   },
   "source": [
    "df_prospects_email.shape"
   ],
   "outputs": [
    {
     "data": {
      "text/plain": [
       "(127, 2)"
      ]
     },
     "execution_count": 73,
     "metadata": {},
     "output_type": "execute_result"
    }
   ],
   "execution_count": 73
  },
  {
   "cell_type": "code",
   "metadata": {
    "ExecuteTime": {
     "end_time": "2025-03-14T08:26:17.283393Z",
     "start_time": "2025-03-14T08:26:17.278966Z"
    }
   },
   "source": "df_prospects_email.to_csv('prospects-email-cleaned.csv', index=False)",
   "outputs": [],
   "execution_count": 76
  },
  {
   "cell_type": "code",
   "metadata": {
    "ExecuteTime": {
     "end_time": "2025-03-14T08:26:20.512306Z",
     "start_time": "2025-03-14T08:26:20.506170Z"
    }
   },
   "source": [
    "df_governance = pd.read_csv(\"governance-emails.csv\")\n",
    "df_governance[\"cc\"] = \"info@ascent-institute.com\"\n",
    "df_governance.head()"
   ],
   "outputs": [
    {
     "data": {
      "text/plain": [
       "                              EMAILS                          cc\n",
       "0                     info@cargen.com  info@ascent-institute.com\n",
       "1  elizabeth@charteredengineering.com  info@ascent-institute.com\n",
       "2             info@firstlenders.co.ke  info@ascent-institute.com\n",
       "3            amina@blackwoodhodge.com  info@ascent-institute.com\n",
       "4             sales@hydromaticsea.com  info@ascent-institute.com"
      ],
      "text/html": [
       "<div>\n",
       "<style scoped>\n",
       "    .dataframe tbody tr th:only-of-type {\n",
       "        vertical-align: middle;\n",
       "    }\n",
       "\n",
       "    .dataframe tbody tr th {\n",
       "        vertical-align: top;\n",
       "    }\n",
       "\n",
       "    .dataframe thead th {\n",
       "        text-align: right;\n",
       "    }\n",
       "</style>\n",
       "<table border=\"1\" class=\"dataframe\">\n",
       "  <thead>\n",
       "    <tr style=\"text-align: right;\">\n",
       "      <th></th>\n",
       "      <th>EMAILS</th>\n",
       "      <th>cc</th>\n",
       "    </tr>\n",
       "  </thead>\n",
       "  <tbody>\n",
       "    <tr>\n",
       "      <th>0</th>\n",
       "      <td>info@cargen.com</td>\n",
       "      <td>info@ascent-institute.com</td>\n",
       "    </tr>\n",
       "    <tr>\n",
       "      <th>1</th>\n",
       "      <td>elizabeth@charteredengineering.com</td>\n",
       "      <td>info@ascent-institute.com</td>\n",
       "    </tr>\n",
       "    <tr>\n",
       "      <th>2</th>\n",
       "      <td>info@firstlenders.co.ke</td>\n",
       "      <td>info@ascent-institute.com</td>\n",
       "    </tr>\n",
       "    <tr>\n",
       "      <th>3</th>\n",
       "      <td>amina@blackwoodhodge.com</td>\n",
       "      <td>info@ascent-institute.com</td>\n",
       "    </tr>\n",
       "    <tr>\n",
       "      <th>4</th>\n",
       "      <td>sales@hydromaticsea.com</td>\n",
       "      <td>info@ascent-institute.com</td>\n",
       "    </tr>\n",
       "  </tbody>\n",
       "</table>\n",
       "</div>"
      ]
     },
     "execution_count": 77,
     "metadata": {},
     "output_type": "execute_result"
    }
   ],
   "execution_count": 77
  },
  {
   "cell_type": "code",
   "metadata": {
    "ExecuteTime": {
     "end_time": "2025-03-14T08:26:22.195206Z",
     "start_time": "2025-03-14T08:26:22.189583Z"
    }
   },
   "source": [
    "df_governance = df_governance.rename(columns={\"EMAILS\": \"Emails\"})\n",
    "display(df_governance.head())"
   ],
   "outputs": [
    {
     "data": {
      "text/plain": [
       "                              EMAILS                          cc\n",
       "0                     info@cargen.com  info@ascent-institute.com\n",
       "1  elizabeth@charteredengineering.com  info@ascent-institute.com\n",
       "2             info@firstlenders.co.ke  info@ascent-institute.com\n",
       "3            amina@blackwoodhodge.com  info@ascent-institute.com\n",
       "4             sales@hydromaticsea.com  info@ascent-institute.com"
      ],
      "text/html": [
       "<div>\n",
       "<style scoped>\n",
       "    .dataframe tbody tr th:only-of-type {\n",
       "        vertical-align: middle;\n",
       "    }\n",
       "\n",
       "    .dataframe tbody tr th {\n",
       "        vertical-align: top;\n",
       "    }\n",
       "\n",
       "    .dataframe thead th {\n",
       "        text-align: right;\n",
       "    }\n",
       "</style>\n",
       "<table border=\"1\" class=\"dataframe\">\n",
       "  <thead>\n",
       "    <tr style=\"text-align: right;\">\n",
       "      <th></th>\n",
       "      <th>EMAILS</th>\n",
       "      <th>cc</th>\n",
       "    </tr>\n",
       "  </thead>\n",
       "  <tbody>\n",
       "    <tr>\n",
       "      <th>0</th>\n",
       "      <td>info@cargen.com</td>\n",
       "      <td>info@ascent-institute.com</td>\n",
       "    </tr>\n",
       "    <tr>\n",
       "      <th>1</th>\n",
       "      <td>elizabeth@charteredengineering.com</td>\n",
       "      <td>info@ascent-institute.com</td>\n",
       "    </tr>\n",
       "    <tr>\n",
       "      <th>2</th>\n",
       "      <td>info@firstlenders.co.ke</td>\n",
       "      <td>info@ascent-institute.com</td>\n",
       "    </tr>\n",
       "    <tr>\n",
       "      <th>3</th>\n",
       "      <td>amina@blackwoodhodge.com</td>\n",
       "      <td>info@ascent-institute.com</td>\n",
       "    </tr>\n",
       "    <tr>\n",
       "      <th>4</th>\n",
       "      <td>sales@hydromaticsea.com</td>\n",
       "      <td>info@ascent-institute.com</td>\n",
       "    </tr>\n",
       "  </tbody>\n",
       "</table>\n",
       "</div>"
      ]
     },
     "metadata": {},
     "output_type": "display_data"
    }
   ],
   "execution_count": 78
  },
  {
   "cell_type": "code",
   "metadata": {
    "ExecuteTime": {
     "end_time": "2025-03-14T08:26:23.708383Z",
     "start_time": "2025-03-14T08:26:23.705064Z"
    }
   },
   "source": [
    "df_governance.to_csv('governance-email-cleaned.csv', index=False)\n"
   ],
   "outputs": [],
   "execution_count": 79
  },
  {
   "cell_type": "markdown",
   "metadata": {},
   "source": [
    "# New emails"
   ]
  },
  {
   "cell_type": "code",
   "metadata": {
    "ExecuteTime": {
     "end_time": "2025-03-14T08:26:25.301382Z",
     "start_time": "2025-03-14T08:26:25.295272Z"
    }
   },
   "source": [
    "df_emails_new = pd.read_csv(\"emails-new.csv\")\n",
    "df_emails_new[\"cc\"] = \"info@ascent-institute.com\"\n",
    "print(df_emails_new.columns)\n",
    "print(df_emails_new.head().to_markdown())"
   ],
   "outputs": [
    {
     "name": "stdout",
     "output_type": "stream",
     "text": [
      "Index(['Emails', 'cc'], dtype='object')\n",
      "|    | Emails                   | cc                        |\n",
      "|---:|:-------------------------|:--------------------------|\n",
      "|  0 | swakiomaghanga@gmail.com | info@ascent-institute.com |\n",
      "|  1 | nyonesaj12@yahoo.com     | info@ascent-institute.com |\n",
      "|  2 | paulsimiyu74@gmail.com   | info@ascent-institute.com |\n",
      "|  3 | mutiemota@gmail.com      | info@ascent-institute.com |\n",
      "|  4 | velentiah80@yahoo.com    | info@ascent-institute.com |\n"
     ]
    }
   ],
   "execution_count": 80
  },
  {
   "cell_type": "code",
   "metadata": {
    "ExecuteTime": {
     "end_time": "2025-03-14T08:26:25.432462Z",
     "start_time": "2025-03-14T08:26:25.427866Z"
    }
   },
   "source": [
    "df_prospects_email = pd.read_csv(\"prospects-email-super-cleaned.csv\")\n",
    "df_governance_email = pd.read_csv(\"governance-email-super-cleaned.csv\")\n",
    "print(df_emails_new.columns)\n",
    "print(df_prospects_email.columns)\n",
    "print(df_governance.columns)"
   ],
   "outputs": [
    {
     "name": "stdout",
     "output_type": "stream",
     "text": [
      "Index(['Emails', 'cc'], dtype='object')\n",
      "Index(['Emails', 'cc'], dtype='object')\n",
      "Index(['EMAILS ', 'cc'], dtype='object')\n"
     ]
    }
   ],
   "execution_count": 81
  },
  {
   "cell_type": "code",
   "metadata": {
    "ExecuteTime": {
     "end_time": "2025-03-14T08:26:25.560274Z",
     "start_time": "2025-03-14T08:26:25.558129Z"
    }
   },
   "source": [
    "print(\"Expected length after concating all should be: \", len(df_emails_new) + len(df_prospects_email) + len(df_governance_email))"
   ],
   "outputs": [
    {
     "name": "stdout",
     "output_type": "stream",
     "text": [
      "Expected length after concating all should be:  220\n"
     ]
    }
   ],
   "execution_count": 82
  },
  {
   "cell_type": "code",
   "metadata": {
    "ExecuteTime": {
     "end_time": "2025-03-14T08:26:25.694573Z",
     "start_time": "2025-03-14T08:26:25.689228Z"
    }
   },
   "source": [
    "df_combined = pd.concat([\n",
    "    df_emails_new[['Emails']], \n",
    "    df_prospects_email[['Emails']], \n",
    "    df_governance[['EMAILS ']]\n",
    "], axis=0)\n",
    "display(df_combined.shape)\n",
    "print(df_combined.head().to_markdown())"
   ],
   "outputs": [
    {
     "data": {
      "text/plain": [
       "(349, 2)"
      ]
     },
     "metadata": {},
     "output_type": "display_data"
    },
    {
     "name": "stdout",
     "output_type": "stream",
     "text": [
      "|    | Emails                   |   EMAILS  |\n",
      "|---:|:-------------------------|----------:|\n",
      "|  0 | swakiomaghanga@gmail.com |       nan |\n",
      "|  1 | nyonesaj12@yahoo.com     |       nan |\n",
      "|  2 | paulsimiyu74@gmail.com   |       nan |\n",
      "|  3 | mutiemota@gmail.com      |       nan |\n",
      "|  4 | velentiah80@yahoo.com    |       nan |\n"
     ]
    }
   ],
   "execution_count": 83
  },
  {
   "metadata": {
    "ExecuteTime": {
     "end_time": "2025-03-14T08:26:25.825905Z",
     "start_time": "2025-03-14T08:26:25.820597Z"
    }
   },
   "cell_type": "code",
   "source": [
    "df_combined.dropna(subset=[\"Emails\"], inplace=True)\n",
    "df_combined[\"cc\"] = \"info@ascent-institute.com\"\n",
    "df_combined.head()"
   ],
   "outputs": [
    {
     "data": {
      "text/plain": [
       "                     Emails EMAILS                          cc\n",
       "0  swakiomaghanga@gmail.com     NaN  info@ascent-institute.com\n",
       "1      nyonesaj12@yahoo.com     NaN  info@ascent-institute.com\n",
       "2    paulsimiyu74@gmail.com     NaN  info@ascent-institute.com\n",
       "3       mutiemota@gmail.com     NaN  info@ascent-institute.com\n",
       "4     velentiah80@yahoo.com     NaN  info@ascent-institute.com"
      ],
      "text/html": [
       "<div>\n",
       "<style scoped>\n",
       "    .dataframe tbody tr th:only-of-type {\n",
       "        vertical-align: middle;\n",
       "    }\n",
       "\n",
       "    .dataframe tbody tr th {\n",
       "        vertical-align: top;\n",
       "    }\n",
       "\n",
       "    .dataframe thead th {\n",
       "        text-align: right;\n",
       "    }\n",
       "</style>\n",
       "<table border=\"1\" class=\"dataframe\">\n",
       "  <thead>\n",
       "    <tr style=\"text-align: right;\">\n",
       "      <th></th>\n",
       "      <th>Emails</th>\n",
       "      <th>EMAILS</th>\n",
       "      <th>cc</th>\n",
       "    </tr>\n",
       "  </thead>\n",
       "  <tbody>\n",
       "    <tr>\n",
       "      <th>0</th>\n",
       "      <td>swakiomaghanga@gmail.com</td>\n",
       "      <td>NaN</td>\n",
       "      <td>info@ascent-institute.com</td>\n",
       "    </tr>\n",
       "    <tr>\n",
       "      <th>1</th>\n",
       "      <td>nyonesaj12@yahoo.com</td>\n",
       "      <td>NaN</td>\n",
       "      <td>info@ascent-institute.com</td>\n",
       "    </tr>\n",
       "    <tr>\n",
       "      <th>2</th>\n",
       "      <td>paulsimiyu74@gmail.com</td>\n",
       "      <td>NaN</td>\n",
       "      <td>info@ascent-institute.com</td>\n",
       "    </tr>\n",
       "    <tr>\n",
       "      <th>3</th>\n",
       "      <td>mutiemota@gmail.com</td>\n",
       "      <td>NaN</td>\n",
       "      <td>info@ascent-institute.com</td>\n",
       "    </tr>\n",
       "    <tr>\n",
       "      <th>4</th>\n",
       "      <td>velentiah80@yahoo.com</td>\n",
       "      <td>NaN</td>\n",
       "      <td>info@ascent-institute.com</td>\n",
       "    </tr>\n",
       "  </tbody>\n",
       "</table>\n",
       "</div>"
      ]
     },
     "execution_count": 84,
     "metadata": {},
     "output_type": "execute_result"
    }
   ],
   "execution_count": 84
  },
  {
   "cell_type": "code",
   "metadata": {
    "ExecuteTime": {
     "end_time": "2025-03-14T08:26:26.622912Z",
     "start_time": "2025-03-14T08:26:26.616523Z"
    }
   },
   "source": [
    "df_combined[\"cc\"] = \"info@ascent-institute.com\"\n",
    "# df_combined.dropna(subset=[\"EMAILS \"], inplace=True)\n",
    "df_combined.info()"
   ],
   "outputs": [
    {
     "name": "stdout",
     "output_type": "stream",
     "text": [
      "<class 'pandas.core.frame.DataFrame'>\n",
      "Index: 164 entries, 0 to 74\n",
      "Data columns (total 3 columns):\n",
      " #   Column   Non-Null Count  Dtype \n",
      "---  ------   --------------  ----- \n",
      " 0   Emails   164 non-null    object\n",
      " 1   EMAILS   0 non-null      object\n",
      " 2   cc       164 non-null    object\n",
      "dtypes: object(3)\n",
      "memory usage: 5.1+ KB\n"
     ]
    }
   ],
   "execution_count": 85
  },
  {
   "metadata": {
    "ExecuteTime": {
     "end_time": "2025-03-14T08:26:26.824483Z",
     "start_time": "2025-03-14T08:26:26.820370Z"
    }
   },
   "cell_type": "code",
   "source": [
    "df_combined.drop_duplicates(subset=[\"Emails\"], inplace=True)\n",
    "df_combined.tail()"
   ],
   "outputs": [
    {
     "data": {
      "text/plain": [
       "                                           Emails EMAILS   \\\n",
       "70                      miriam@scopeandimpact.com     NaN   \n",
       "71                          jkarasha@sanlam.co.ke     NaN   \n",
       "72                  james.waweru@apainsurance.org     NaN   \n",
       "73                   manan.desai@apainsurance.org     NaN   \n",
       "74  info@dimkessacco.co.ke , hr@dimkessacco.co.ke     NaN   \n",
       "\n",
       "                           cc  \n",
       "70  info@ascent-institute.com  \n",
       "71  info@ascent-institute.com  \n",
       "72  info@ascent-institute.com  \n",
       "73  info@ascent-institute.com  \n",
       "74  info@ascent-institute.com  "
      ],
      "text/html": [
       "<div>\n",
       "<style scoped>\n",
       "    .dataframe tbody tr th:only-of-type {\n",
       "        vertical-align: middle;\n",
       "    }\n",
       "\n",
       "    .dataframe tbody tr th {\n",
       "        vertical-align: top;\n",
       "    }\n",
       "\n",
       "    .dataframe thead th {\n",
       "        text-align: right;\n",
       "    }\n",
       "</style>\n",
       "<table border=\"1\" class=\"dataframe\">\n",
       "  <thead>\n",
       "    <tr style=\"text-align: right;\">\n",
       "      <th></th>\n",
       "      <th>Emails</th>\n",
       "      <th>EMAILS</th>\n",
       "      <th>cc</th>\n",
       "    </tr>\n",
       "  </thead>\n",
       "  <tbody>\n",
       "    <tr>\n",
       "      <th>70</th>\n",
       "      <td>miriam@scopeandimpact.com</td>\n",
       "      <td>NaN</td>\n",
       "      <td>info@ascent-institute.com</td>\n",
       "    </tr>\n",
       "    <tr>\n",
       "      <th>71</th>\n",
       "      <td>jkarasha@sanlam.co.ke</td>\n",
       "      <td>NaN</td>\n",
       "      <td>info@ascent-institute.com</td>\n",
       "    </tr>\n",
       "    <tr>\n",
       "      <th>72</th>\n",
       "      <td>james.waweru@apainsurance.org</td>\n",
       "      <td>NaN</td>\n",
       "      <td>info@ascent-institute.com</td>\n",
       "    </tr>\n",
       "    <tr>\n",
       "      <th>73</th>\n",
       "      <td>manan.desai@apainsurance.org</td>\n",
       "      <td>NaN</td>\n",
       "      <td>info@ascent-institute.com</td>\n",
       "    </tr>\n",
       "    <tr>\n",
       "      <th>74</th>\n",
       "      <td>info@dimkessacco.co.ke , hr@dimkessacco.co.ke</td>\n",
       "      <td>NaN</td>\n",
       "      <td>info@ascent-institute.com</td>\n",
       "    </tr>\n",
       "  </tbody>\n",
       "</table>\n",
       "</div>"
      ]
     },
     "execution_count": 86,
     "metadata": {},
     "output_type": "execute_result"
    }
   ],
   "execution_count": 86
  },
  {
   "cell_type": "code",
   "metadata": {
    "ExecuteTime": {
     "end_time": "2025-03-14T08:26:26.997935Z",
     "start_time": "2025-03-14T08:26:26.994749Z"
    }
   },
   "source": [
    "# df_combined = df_combined.drop(columns=[\"EMAILS \"])\n",
    "df_combined[\"Emails\"] = df_combined[\"Emails\"].str.strip().str.lower()\n",
    "df_combined.columns"
   ],
   "outputs": [
    {
     "data": {
      "text/plain": [
       "Index(['Emails', 'EMAILS ', 'cc'], dtype='object')"
      ]
     },
     "execution_count": 87,
     "metadata": {},
     "output_type": "execute_result"
    }
   ],
   "execution_count": 87
  },
  {
   "metadata": {
    "ExecuteTime": {
     "end_time": "2025-03-14T08:26:27.910960Z",
     "start_time": "2025-03-14T08:26:27.905549Z"
    }
   },
   "cell_type": "code",
   "source": [
    "# Dropping emails that do are persistent yet they dont exist\n",
    "email_to_drop = [\"benard.mutua@royalmedia.co.ke\", \"info@dtdobie.co.ke\", \"imelda@kibandatopup.com\", \"ruth.mwende@agritechsolutions.com\", \"margaret.njeri@blueskyinvestments.com\", \"mary.smith@xyzfinance.com\", \"dennis.kaai@outloook.com\", \"linda.brown@globalsolutions.com\",\"dmshigati@yahoo.com\", \"chrispongah@gmail.com\", \"lucy.wambui@agrifuture.com\", \"pisu18@singnet.com.sg\", \"mary.wambui@techleaders.com\", \"grace.mumbi@ecofinance.com\", \"velentiah80@yahoo.com\", \"somoile.j@gmail.com\", \"m4anyambura@yahoo.com\", \"pmwamkey@gmail.com\", \"dianemwashoma@gmail.com\", \"mercyshikosh@gmail.com\", \"ramahkatho@gmail.com\", \"beahcelekcdcc@gmail.com\", \"beahcelekcdcc@gmail.com\", \"bethuel.mwangi@airtelkenya.com\", \"enock@kapa-oil.com\", \"sahcadmin@africaonline.co.ke\", \"cpsb@kiambu.go.ke\", \"susan.johnson@techinnovators.com\", \"grace.nyambura@cleanwatersolutions.com\", \"margaret.mwangi@healthplus.com\", \"nancy.wairimu@futureleaders.com\", \"lucy.wanjiku@builditconstruction.com\", \"mary.wanjiru@techinnovate.com\", \"joyce.akinyi@greenenergy.com\", \"elizabeth.wanjiku@inclusivegrowth.com\", \"wanjiku@safefinance.com\", \"elizabeth.njeri@inclusivefutures.com\"]\n",
    "email_to_drop_cleaned = [email.lower().strip() for email in email_to_drop]\n",
    "df_combined = df_combined[~df_combined[\"Emails\"].isin(email_to_drop_cleaned)]\n",
    "df_combined.drop_duplicates(inplace=True)"
   ],
   "outputs": [],
   "execution_count": 88
  },
  {
   "metadata": {
    "ExecuteTime": {
     "end_time": "2025-03-14T08:27:09.479470Z",
     "start_time": "2025-03-14T08:27:09.476578Z"
    }
   },
   "cell_type": "code",
   "source": [
    "failed_emails_df = pd.DataFrame(email_to_drop_cleaned, columns=[\"Emails\"])\n",
    "cleaned_emails_df = df_combined[\"Emails\"].copy()"
   ],
   "outputs": [],
   "execution_count": 96
  },
  {
   "metadata": {
    "ExecuteTime": {
     "end_time": "2025-03-14T08:27:10.956041Z",
     "start_time": "2025-03-14T08:27:10.950890Z"
    }
   },
   "cell_type": "code",
   "source": "failed_emails_df.head()",
   "outputs": [
    {
     "data": {
      "text/plain": [
       "                                  Emails\n",
       "0          benard.mutua@royalmedia.co.ke\n",
       "1                     info@dtdobie.co.ke\n",
       "2                imelda@kibandatopup.com\n",
       "3      ruth.mwende@agritechsolutions.com\n",
       "4  margaret.njeri@blueskyinvestments.com"
      ],
      "text/html": [
       "<div>\n",
       "<style scoped>\n",
       "    .dataframe tbody tr th:only-of-type {\n",
       "        vertical-align: middle;\n",
       "    }\n",
       "\n",
       "    .dataframe tbody tr th {\n",
       "        vertical-align: top;\n",
       "    }\n",
       "\n",
       "    .dataframe thead th {\n",
       "        text-align: right;\n",
       "    }\n",
       "</style>\n",
       "<table border=\"1\" class=\"dataframe\">\n",
       "  <thead>\n",
       "    <tr style=\"text-align: right;\">\n",
       "      <th></th>\n",
       "      <th>Emails</th>\n",
       "    </tr>\n",
       "  </thead>\n",
       "  <tbody>\n",
       "    <tr>\n",
       "      <th>0</th>\n",
       "      <td>benard.mutua@royalmedia.co.ke</td>\n",
       "    </tr>\n",
       "    <tr>\n",
       "      <th>1</th>\n",
       "      <td>info@dtdobie.co.ke</td>\n",
       "    </tr>\n",
       "    <tr>\n",
       "      <th>2</th>\n",
       "      <td>imelda@kibandatopup.com</td>\n",
       "    </tr>\n",
       "    <tr>\n",
       "      <th>3</th>\n",
       "      <td>ruth.mwende@agritechsolutions.com</td>\n",
       "    </tr>\n",
       "    <tr>\n",
       "      <th>4</th>\n",
       "      <td>margaret.njeri@blueskyinvestments.com</td>\n",
       "    </tr>\n",
       "  </tbody>\n",
       "</table>\n",
       "</div>"
      ]
     },
     "execution_count": 97,
     "metadata": {},
     "output_type": "execute_result"
    }
   ],
   "execution_count": 97
  },
  {
   "metadata": {
    "ExecuteTime": {
     "end_time": "2025-03-14T08:27:13.203643Z",
     "start_time": "2025-03-14T08:27:13.201009Z"
    }
   },
   "cell_type": "code",
   "source": "cleaned_emails_df.head()",
   "outputs": [
    {
     "data": {
      "text/plain": [
       "0    swakiomaghanga@gmail.com\n",
       "1        nyonesaj12@yahoo.com\n",
       "2      paulsimiyu74@gmail.com\n",
       "3         mutiemota@gmail.com\n",
       "7            nwmash@gmail.com\n",
       "Name: Emails, dtype: object"
      ]
     },
     "execution_count": 98,
     "metadata": {},
     "output_type": "execute_result"
    }
   ],
   "execution_count": 98
  },
  {
   "metadata": {
    "ExecuteTime": {
     "end_time": "2025-03-14T08:27:15.553747Z",
     "start_time": "2025-03-14T08:27:15.531952Z"
    }
   },
   "cell_type": "code",
   "source": [
    "failed_emails_df.to_excel(\"failed-emails.xlsx\", index=False)\n",
    "cleaned_emails_df.to_excel(\"valid-emails.xlsx\", index=False)"
   ],
   "outputs": [],
   "execution_count": 99
  },
  {
   "metadata": {
    "ExecuteTime": {
     "end_time": "2025-03-14T08:27:16.855940Z",
     "start_time": "2025-03-14T08:27:16.853097Z"
    }
   },
   "cell_type": "code",
   "source": [
    "print(\"Total failed emails: \", len(failed_emails_df))\n",
    "print(\"Total valid emails: \", len(cleaned_emails_df))"
   ],
   "outputs": [
    {
     "name": "stdout",
     "output_type": "stream",
     "text": [
      "Total failed emails:  37\n",
      "Total valid emails:  147\n"
     ]
    }
   ],
   "execution_count": 100
  },
  {
   "cell_type": "code",
   "metadata": {
    "ExecuteTime": {
     "end_time": "2025-03-14T08:27:19.584614Z",
     "start_time": "2025-03-14T08:27:19.580383Z"
    }
   },
   "source": [
    "df_combined.to_csv('combined-emails-cleaned.csv', index=False)"
   ],
   "outputs": [],
   "execution_count": 101
  },
  {
   "metadata": {},
   "cell_type": "code",
   "outputs": [],
   "execution_count": null,
   "source": ""
  }
 ],
 "metadata": {
  "kernelspec": {
   "display_name": ".venv",
   "language": "python",
   "name": "python3"
  },
  "language_info": {
   "codemirror_mode": {
    "name": "ipython",
    "version": 3
   },
   "file_extension": ".py",
   "mimetype": "text/x-python",
   "name": "python",
   "nbconvert_exporter": "python",
   "pygments_lexer": "ipython3",
   "version": "3.9.6"
  }
 },
 "nbformat": 4,
 "nbformat_minor": 2
}
