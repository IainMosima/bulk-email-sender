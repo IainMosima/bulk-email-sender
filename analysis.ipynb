{
 "cells": [
  {
   "cell_type": "code",
   "metadata": {
    "ExecuteTime": {
     "end_time": "2025-03-14T07:41:16.637379Z",
     "start_time": "2025-03-14T07:41:16.426505Z"
    }
   },
   "source": [
    "import pandas as pd"
   ],
   "outputs": [],
   "execution_count": 1
  },
  {
   "cell_type": "code",
   "metadata": {
    "ExecuteTime": {
     "end_time": "2025-03-14T07:41:16.659826Z",
     "start_time": "2025-03-14T07:41:16.642450Z"
    }
   },
   "source": [
    "# Read the CSV file\n",
    "df = pd.read_csv('/Users/apple/Desktop/Work/Ascent/bulk-email-sender/prospects-email.csv', \n",
    "                 skiprows=1,  # Skip the title row\n",
    "                 usecols=[1,2,3,4],  # Only use columns with actual data\n",
    "                 names=['COMPANY_NAME', 'DESIGNATION', 'PHONE_NUMBER', 'EMAIL'],  # Define column names\n",
    "                 na_values=[''])  # Convert empty strings to NaN\n",
    "\n",
    "# Clean the data\n",
    "df = df.dropna(subset=['EMAIL']) \n",
    "df = df.reset_index(drop=True) \n",
    "\n",
    "print(\"First few rows of the dataframe:\")\n",
    "print(df.head().to_markdown())\n",
    "print(\"\\nDataframe info:\")\n",
    "print(df.info())"
   ],
   "outputs": [
    {
     "name": "stdout",
     "output_type": "stream",
     "text": [
      "First few rows of the dataframe:\n",
      "|    | COMPANY_NAME    | DESIGNATION                   | PHONE_NUMBER    | EMAIL                       |\n",
      "|---:|:----------------|:------------------------------|:----------------|:----------------------------|\n",
      "|  0 | COMPANY NAME    | DESIGNATION                   | PHONE NUMBER    | EMAIL ADRESS                |\n",
      "|  1 | Bidco Africa    | regional sales head           | +254 67 2821000 | saurabh.suman@bidco-oil.com |\n",
      "|  2 | CCBA kenya      | country lead-Jennifer mbindyo | (011) 848-2600  | jmbindyo@ccbagroup.com      |\n",
      "|  3 | CIC Group       | General manager sales         | +254 703 099120 | njerenga@cic.co.ke          |\n",
      "|  4 | BRITAM HOLDINGS | CHAIRMAN                      | nan             | kmuchiru@britam.com         |\n",
      "\n",
      "Dataframe info:\n",
      "<class 'pandas.core.frame.DataFrame'>\n",
      "RangeIndex: 128 entries, 0 to 127\n",
      "Data columns (total 4 columns):\n",
      " #   Column        Non-Null Count  Dtype \n",
      "---  ------        --------------  ----- \n",
      " 0   COMPANY_NAME  89 non-null     object\n",
      " 1   DESIGNATION   118 non-null    object\n",
      " 2   PHONE_NUMBER  86 non-null     object\n",
      " 3   EMAIL         128 non-null    object\n",
      "dtypes: object(4)\n",
      "memory usage: 4.1+ KB\n",
      "None\n"
     ]
    }
   ],
   "execution_count": 2
  },
  {
   "cell_type": "code",
   "metadata": {
    "ExecuteTime": {
     "end_time": "2025-03-14T07:41:16.727526Z",
     "start_time": "2025-03-14T07:41:16.721618Z"
    }
   },
   "source": [
    "df = df.iloc[1:].reset_index(drop=True)\n",
    "df.head()"
   ],
   "outputs": [
    {
     "data": {
      "text/plain": [
       "        COMPANY_NAME                    DESIGNATION     PHONE_NUMBER  \\\n",
       "0       Bidco Africa            regional sales head  +254 67 2821000   \n",
       "1         CCBA kenya  country lead-Jennifer mbindyo   (011) 848-2600   \n",
       "2          CIC Group          General manager sales  +254 703 099120   \n",
       "3    BRITAM HOLDINGS                       CHAIRMAN              NaN   \n",
       "4  LIBERTY INSURANCE    head of customer experience  +254 711 028000   \n",
       "\n",
       "                              EMAIL  \n",
       "0       saurabh.suman@bidco-oil.com  \n",
       "1            jmbindyo@ccbagroup.com  \n",
       "2                njerenga@cic.co.ke  \n",
       "3               kmuchiru@britam.com  \n",
       "4  angela.rarieya@libertylife.co.ke  "
      ],
      "text/html": [
       "<div>\n",
       "<style scoped>\n",
       "    .dataframe tbody tr th:only-of-type {\n",
       "        vertical-align: middle;\n",
       "    }\n",
       "\n",
       "    .dataframe tbody tr th {\n",
       "        vertical-align: top;\n",
       "    }\n",
       "\n",
       "    .dataframe thead th {\n",
       "        text-align: right;\n",
       "    }\n",
       "</style>\n",
       "<table border=\"1\" class=\"dataframe\">\n",
       "  <thead>\n",
       "    <tr style=\"text-align: right;\">\n",
       "      <th></th>\n",
       "      <th>COMPANY_NAME</th>\n",
       "      <th>DESIGNATION</th>\n",
       "      <th>PHONE_NUMBER</th>\n",
       "      <th>EMAIL</th>\n",
       "    </tr>\n",
       "  </thead>\n",
       "  <tbody>\n",
       "    <tr>\n",
       "      <th>0</th>\n",
       "      <td>Bidco Africa</td>\n",
       "      <td>regional sales head</td>\n",
       "      <td>+254 67 2821000</td>\n",
       "      <td>saurabh.suman@bidco-oil.com</td>\n",
       "    </tr>\n",
       "    <tr>\n",
       "      <th>1</th>\n",
       "      <td>CCBA kenya</td>\n",
       "      <td>country lead-Jennifer mbindyo</td>\n",
       "      <td>(011) 848-2600</td>\n",
       "      <td>jmbindyo@ccbagroup.com</td>\n",
       "    </tr>\n",
       "    <tr>\n",
       "      <th>2</th>\n",
       "      <td>CIC Group</td>\n",
       "      <td>General manager sales</td>\n",
       "      <td>+254 703 099120</td>\n",
       "      <td>njerenga@cic.co.ke</td>\n",
       "    </tr>\n",
       "    <tr>\n",
       "      <th>3</th>\n",
       "      <td>BRITAM HOLDINGS</td>\n",
       "      <td>CHAIRMAN</td>\n",
       "      <td>NaN</td>\n",
       "      <td>kmuchiru@britam.com</td>\n",
       "    </tr>\n",
       "    <tr>\n",
       "      <th>4</th>\n",
       "      <td>LIBERTY INSURANCE</td>\n",
       "      <td>head of customer experience</td>\n",
       "      <td>+254 711 028000</td>\n",
       "      <td>angela.rarieya@libertylife.co.ke</td>\n",
       "    </tr>\n",
       "  </tbody>\n",
       "</table>\n",
       "</div>"
      ]
     },
     "execution_count": 3,
     "metadata": {},
     "output_type": "execute_result"
    }
   ],
   "execution_count": 3
  },
  {
   "cell_type": "code",
   "metadata": {
    "ExecuteTime": {
     "end_time": "2025-03-14T07:41:16.748366Z",
     "start_time": "2025-03-14T07:41:16.744835Z"
    }
   },
   "source": [
    "df_prospects_email = df[[\"EMAIL\"]]\n",
    "df_prospects_email.head()"
   ],
   "outputs": [
    {
     "data": {
      "text/plain": [
       "                              EMAIL\n",
       "0       saurabh.suman@bidco-oil.com\n",
       "1            jmbindyo@ccbagroup.com\n",
       "2                njerenga@cic.co.ke\n",
       "3               kmuchiru@britam.com\n",
       "4  angela.rarieya@libertylife.co.ke"
      ],
      "text/html": [
       "<div>\n",
       "<style scoped>\n",
       "    .dataframe tbody tr th:only-of-type {\n",
       "        vertical-align: middle;\n",
       "    }\n",
       "\n",
       "    .dataframe tbody tr th {\n",
       "        vertical-align: top;\n",
       "    }\n",
       "\n",
       "    .dataframe thead th {\n",
       "        text-align: right;\n",
       "    }\n",
       "</style>\n",
       "<table border=\"1\" class=\"dataframe\">\n",
       "  <thead>\n",
       "    <tr style=\"text-align: right;\">\n",
       "      <th></th>\n",
       "      <th>EMAIL</th>\n",
       "    </tr>\n",
       "  </thead>\n",
       "  <tbody>\n",
       "    <tr>\n",
       "      <th>0</th>\n",
       "      <td>saurabh.suman@bidco-oil.com</td>\n",
       "    </tr>\n",
       "    <tr>\n",
       "      <th>1</th>\n",
       "      <td>jmbindyo@ccbagroup.com</td>\n",
       "    </tr>\n",
       "    <tr>\n",
       "      <th>2</th>\n",
       "      <td>njerenga@cic.co.ke</td>\n",
       "    </tr>\n",
       "    <tr>\n",
       "      <th>3</th>\n",
       "      <td>kmuchiru@britam.com</td>\n",
       "    </tr>\n",
       "    <tr>\n",
       "      <th>4</th>\n",
       "      <td>angela.rarieya@libertylife.co.ke</td>\n",
       "    </tr>\n",
       "  </tbody>\n",
       "</table>\n",
       "</div>"
      ]
     },
     "execution_count": 4,
     "metadata": {},
     "output_type": "execute_result"
    }
   ],
   "execution_count": 4
  },
  {
   "cell_type": "code",
   "metadata": {
    "ExecuteTime": {
     "end_time": "2025-03-14T07:41:16.774354Z",
     "start_time": "2025-03-14T07:41:16.770226Z"
    }
   },
   "source": [
    "df_prospects_email.isna().sum()"
   ],
   "outputs": [
    {
     "data": {
      "text/plain": [
       "EMAIL    0\n",
       "dtype: int64"
      ]
     },
     "execution_count": 5,
     "metadata": {},
     "output_type": "execute_result"
    }
   ],
   "execution_count": 5
  },
  {
   "cell_type": "code",
   "metadata": {
    "ExecuteTime": {
     "end_time": "2025-03-14T07:41:16.862161Z",
     "start_time": "2025-03-14T07:41:16.857281Z"
    }
   },
   "source": [
    "df_prospects_email.loc[:, \"EMAIL\"] = df_prospects_email[\"EMAIL\"].str.strip().str.lower()\n",
    "df_prospects_email.head()"
   ],
   "outputs": [
    {
     "data": {
      "text/plain": [
       "                              EMAIL\n",
       "0       saurabh.suman@bidco-oil.com\n",
       "1            jmbindyo@ccbagroup.com\n",
       "2                njerenga@cic.co.ke\n",
       "3               kmuchiru@britam.com\n",
       "4  angela.rarieya@libertylife.co.ke"
      ],
      "text/html": [
       "<div>\n",
       "<style scoped>\n",
       "    .dataframe tbody tr th:only-of-type {\n",
       "        vertical-align: middle;\n",
       "    }\n",
       "\n",
       "    .dataframe tbody tr th {\n",
       "        vertical-align: top;\n",
       "    }\n",
       "\n",
       "    .dataframe thead th {\n",
       "        text-align: right;\n",
       "    }\n",
       "</style>\n",
       "<table border=\"1\" class=\"dataframe\">\n",
       "  <thead>\n",
       "    <tr style=\"text-align: right;\">\n",
       "      <th></th>\n",
       "      <th>EMAIL</th>\n",
       "    </tr>\n",
       "  </thead>\n",
       "  <tbody>\n",
       "    <tr>\n",
       "      <th>0</th>\n",
       "      <td>saurabh.suman@bidco-oil.com</td>\n",
       "    </tr>\n",
       "    <tr>\n",
       "      <th>1</th>\n",
       "      <td>jmbindyo@ccbagroup.com</td>\n",
       "    </tr>\n",
       "    <tr>\n",
       "      <th>2</th>\n",
       "      <td>njerenga@cic.co.ke</td>\n",
       "    </tr>\n",
       "    <tr>\n",
       "      <th>3</th>\n",
       "      <td>kmuchiru@britam.com</td>\n",
       "    </tr>\n",
       "    <tr>\n",
       "      <th>4</th>\n",
       "      <td>angela.rarieya@libertylife.co.ke</td>\n",
       "    </tr>\n",
       "  </tbody>\n",
       "</table>\n",
       "</div>"
      ]
     },
     "execution_count": 6,
     "metadata": {},
     "output_type": "execute_result"
    }
   ],
   "execution_count": 6
  },
  {
   "cell_type": "code",
   "metadata": {
    "ExecuteTime": {
     "end_time": "2025-03-14T07:41:16.983057Z",
     "start_time": "2025-03-14T07:41:16.978291Z"
    }
   },
   "source": [
    "df_prospects_email = df_prospects_email.rename(columns={\"EMAIL\": \"Emails\"})\n",
    "df_prospects_email.columns"
   ],
   "outputs": [
    {
     "data": {
      "text/plain": [
       "Index(['Emails'], dtype='object')"
      ]
     },
     "execution_count": 7,
     "metadata": {},
     "output_type": "execute_result"
    }
   ],
   "execution_count": 7
  },
  {
   "cell_type": "code",
   "metadata": {
    "ExecuteTime": {
     "end_time": "2025-03-14T07:41:17.085748Z",
     "start_time": "2025-03-14T07:41:17.081267Z"
    }
   },
   "source": [
    "df_prospects_email.duplicated().sum()"
   ],
   "outputs": [
    {
     "data": {
      "text/plain": [
       "np.int64(0)"
      ]
     },
     "execution_count": 8,
     "metadata": {},
     "output_type": "execute_result"
    }
   ],
   "execution_count": 8
  },
  {
   "cell_type": "code",
   "metadata": {
    "ExecuteTime": {
     "end_time": "2025-03-14T07:41:17.182547Z",
     "start_time": "2025-03-14T07:41:17.178103Z"
    }
   },
   "source": [
    "df_prospects_email[\"cc\"] = \"info@ascent-institute.com\"\n",
    "df_prospects_email.head()"
   ],
   "outputs": [
    {
     "data": {
      "text/plain": [
       "                             Emails                         cc\n",
       "0       saurabh.suman@bidco-oil.com  info@ascent-institute.com\n",
       "1            jmbindyo@ccbagroup.com  info@ascent-institute.com\n",
       "2                njerenga@cic.co.ke  info@ascent-institute.com\n",
       "3               kmuchiru@britam.com  info@ascent-institute.com\n",
       "4  angela.rarieya@libertylife.co.ke  info@ascent-institute.com"
      ],
      "text/html": [
       "<div>\n",
       "<style scoped>\n",
       "    .dataframe tbody tr th:only-of-type {\n",
       "        vertical-align: middle;\n",
       "    }\n",
       "\n",
       "    .dataframe tbody tr th {\n",
       "        vertical-align: top;\n",
       "    }\n",
       "\n",
       "    .dataframe thead th {\n",
       "        text-align: right;\n",
       "    }\n",
       "</style>\n",
       "<table border=\"1\" class=\"dataframe\">\n",
       "  <thead>\n",
       "    <tr style=\"text-align: right;\">\n",
       "      <th></th>\n",
       "      <th>Emails</th>\n",
       "      <th>cc</th>\n",
       "    </tr>\n",
       "  </thead>\n",
       "  <tbody>\n",
       "    <tr>\n",
       "      <th>0</th>\n",
       "      <td>saurabh.suman@bidco-oil.com</td>\n",
       "      <td>info@ascent-institute.com</td>\n",
       "    </tr>\n",
       "    <tr>\n",
       "      <th>1</th>\n",
       "      <td>jmbindyo@ccbagroup.com</td>\n",
       "      <td>info@ascent-institute.com</td>\n",
       "    </tr>\n",
       "    <tr>\n",
       "      <th>2</th>\n",
       "      <td>njerenga@cic.co.ke</td>\n",
       "      <td>info@ascent-institute.com</td>\n",
       "    </tr>\n",
       "    <tr>\n",
       "      <th>3</th>\n",
       "      <td>kmuchiru@britam.com</td>\n",
       "      <td>info@ascent-institute.com</td>\n",
       "    </tr>\n",
       "    <tr>\n",
       "      <th>4</th>\n",
       "      <td>angela.rarieya@libertylife.co.ke</td>\n",
       "      <td>info@ascent-institute.com</td>\n",
       "    </tr>\n",
       "  </tbody>\n",
       "</table>\n",
       "</div>"
      ]
     },
     "execution_count": 9,
     "metadata": {},
     "output_type": "execute_result"
    }
   ],
   "execution_count": 9
  },
  {
   "cell_type": "code",
   "metadata": {
    "ExecuteTime": {
     "end_time": "2025-03-14T07:41:17.235569Z",
     "start_time": "2025-03-14T07:41:17.232235Z"
    }
   },
   "source": [
    "df_prospects_email.shape"
   ],
   "outputs": [
    {
     "data": {
      "text/plain": [
       "(127, 2)"
      ]
     },
     "execution_count": 10,
     "metadata": {},
     "output_type": "execute_result"
    }
   ],
   "execution_count": 10
  },
  {
   "cell_type": "code",
   "metadata": {
    "ExecuteTime": {
     "end_time": "2025-03-14T07:41:17.295343Z",
     "start_time": "2025-03-14T07:41:17.292103Z"
    }
   },
   "source": [
    "df_prospects_email.to_csv('prospects-email-cleaned.csv', index=False)"
   ],
   "outputs": [],
   "execution_count": 11
  },
  {
   "cell_type": "code",
   "metadata": {
    "ExecuteTime": {
     "end_time": "2025-03-14T07:41:17.325151Z",
     "start_time": "2025-03-14T07:41:17.319049Z"
    }
   },
   "source": [
    "df_governance = pd.read_csv(\"governance-emails.csv\")\n",
    "df_governance[\"cc\"] = \"info@ascent-institute.com\"\n",
    "df_governance.head()"
   ],
   "outputs": [
    {
     "data": {
      "text/plain": [
       "                              EMAILS                          cc\n",
       "0                     info@cargen.com  info@ascent-institute.com\n",
       "1  elizabeth@charteredengineering.com  info@ascent-institute.com\n",
       "2             info@firstlenders.co.ke  info@ascent-institute.com\n",
       "3            amina@blackwoodhodge.com  info@ascent-institute.com\n",
       "4             sales@hydromaticsea.com  info@ascent-institute.com"
      ],
      "text/html": [
       "<div>\n",
       "<style scoped>\n",
       "    .dataframe tbody tr th:only-of-type {\n",
       "        vertical-align: middle;\n",
       "    }\n",
       "\n",
       "    .dataframe tbody tr th {\n",
       "        vertical-align: top;\n",
       "    }\n",
       "\n",
       "    .dataframe thead th {\n",
       "        text-align: right;\n",
       "    }\n",
       "</style>\n",
       "<table border=\"1\" class=\"dataframe\">\n",
       "  <thead>\n",
       "    <tr style=\"text-align: right;\">\n",
       "      <th></th>\n",
       "      <th>EMAILS</th>\n",
       "      <th>cc</th>\n",
       "    </tr>\n",
       "  </thead>\n",
       "  <tbody>\n",
       "    <tr>\n",
       "      <th>0</th>\n",
       "      <td>info@cargen.com</td>\n",
       "      <td>info@ascent-institute.com</td>\n",
       "    </tr>\n",
       "    <tr>\n",
       "      <th>1</th>\n",
       "      <td>elizabeth@charteredengineering.com</td>\n",
       "      <td>info@ascent-institute.com</td>\n",
       "    </tr>\n",
       "    <tr>\n",
       "      <th>2</th>\n",
       "      <td>info@firstlenders.co.ke</td>\n",
       "      <td>info@ascent-institute.com</td>\n",
       "    </tr>\n",
       "    <tr>\n",
       "      <th>3</th>\n",
       "      <td>amina@blackwoodhodge.com</td>\n",
       "      <td>info@ascent-institute.com</td>\n",
       "    </tr>\n",
       "    <tr>\n",
       "      <th>4</th>\n",
       "      <td>sales@hydromaticsea.com</td>\n",
       "      <td>info@ascent-institute.com</td>\n",
       "    </tr>\n",
       "  </tbody>\n",
       "</table>\n",
       "</div>"
      ]
     },
     "execution_count": 12,
     "metadata": {},
     "output_type": "execute_result"
    }
   ],
   "execution_count": 12
  },
  {
   "cell_type": "code",
   "metadata": {
    "ExecuteTime": {
     "end_time": "2025-03-14T07:41:17.371725Z",
     "start_time": "2025-03-14T07:41:17.366053Z"
    }
   },
   "source": [
    "df_governance = df_governance.rename(columns={\"EMAILS\": \"Emails\"})\n",
    "display(df_governance.head())"
   ],
   "outputs": [
    {
     "data": {
      "text/plain": [
       "                              EMAILS                          cc\n",
       "0                     info@cargen.com  info@ascent-institute.com\n",
       "1  elizabeth@charteredengineering.com  info@ascent-institute.com\n",
       "2             info@firstlenders.co.ke  info@ascent-institute.com\n",
       "3            amina@blackwoodhodge.com  info@ascent-institute.com\n",
       "4             sales@hydromaticsea.com  info@ascent-institute.com"
      ],
      "text/html": [
       "<div>\n",
       "<style scoped>\n",
       "    .dataframe tbody tr th:only-of-type {\n",
       "        vertical-align: middle;\n",
       "    }\n",
       "\n",
       "    .dataframe tbody tr th {\n",
       "        vertical-align: top;\n",
       "    }\n",
       "\n",
       "    .dataframe thead th {\n",
       "        text-align: right;\n",
       "    }\n",
       "</style>\n",
       "<table border=\"1\" class=\"dataframe\">\n",
       "  <thead>\n",
       "    <tr style=\"text-align: right;\">\n",
       "      <th></th>\n",
       "      <th>EMAILS</th>\n",
       "      <th>cc</th>\n",
       "    </tr>\n",
       "  </thead>\n",
       "  <tbody>\n",
       "    <tr>\n",
       "      <th>0</th>\n",
       "      <td>info@cargen.com</td>\n",
       "      <td>info@ascent-institute.com</td>\n",
       "    </tr>\n",
       "    <tr>\n",
       "      <th>1</th>\n",
       "      <td>elizabeth@charteredengineering.com</td>\n",
       "      <td>info@ascent-institute.com</td>\n",
       "    </tr>\n",
       "    <tr>\n",
       "      <th>2</th>\n",
       "      <td>info@firstlenders.co.ke</td>\n",
       "      <td>info@ascent-institute.com</td>\n",
       "    </tr>\n",
       "    <tr>\n",
       "      <th>3</th>\n",
       "      <td>amina@blackwoodhodge.com</td>\n",
       "      <td>info@ascent-institute.com</td>\n",
       "    </tr>\n",
       "    <tr>\n",
       "      <th>4</th>\n",
       "      <td>sales@hydromaticsea.com</td>\n",
       "      <td>info@ascent-institute.com</td>\n",
       "    </tr>\n",
       "  </tbody>\n",
       "</table>\n",
       "</div>"
      ]
     },
     "metadata": {},
     "output_type": "display_data"
    }
   ],
   "execution_count": 13
  },
  {
   "cell_type": "code",
   "metadata": {
    "ExecuteTime": {
     "end_time": "2025-03-14T07:41:17.417275Z",
     "start_time": "2025-03-14T07:41:17.414039Z"
    }
   },
   "source": [
    "df_governance.to_csv('governance-email-cleaned.csv', index=False)\n"
   ],
   "outputs": [],
   "execution_count": 14
  },
  {
   "cell_type": "markdown",
   "metadata": {},
   "source": [
    "# New emails"
   ]
  },
  {
   "cell_type": "code",
   "metadata": {
    "ExecuteTime": {
     "end_time": "2025-03-14T07:41:17.497080Z",
     "start_time": "2025-03-14T07:41:17.491235Z"
    }
   },
   "source": [
    "df_emails_new = pd.read_csv(\"emails-new.csv\")\n",
    "df_emails_new[\"cc\"] = \"info@ascent-institute.com\"\n",
    "print(df_emails_new.columns)\n",
    "print(df_emails_new.head().to_markdown())"
   ],
   "outputs": [
    {
     "name": "stdout",
     "output_type": "stream",
     "text": [
      "Index(['Emails', 'cc'], dtype='object')\n",
      "|    | Emails                   | cc                        |\n",
      "|---:|:-------------------------|:--------------------------|\n",
      "|  0 | swakiomaghanga@gmail.com | info@ascent-institute.com |\n",
      "|  1 | nyonesaj12@yahoo.com     | info@ascent-institute.com |\n",
      "|  2 | paulsimiyu74@gmail.com   | info@ascent-institute.com |\n",
      "|  3 | mutiemota@gmail.com      | info@ascent-institute.com |\n",
      "|  4 | velentiah80@yahoo.com    | info@ascent-institute.com |\n"
     ]
    }
   ],
   "execution_count": 15
  },
  {
   "cell_type": "code",
   "metadata": {
    "ExecuteTime": {
     "end_time": "2025-03-14T07:41:17.558461Z",
     "start_time": "2025-03-14T07:41:17.554057Z"
    }
   },
   "source": [
    "df_prospects_email = pd.read_csv(\"prospects-email-super-cleaned.csv\")\n",
    "df_governance_email = pd.read_csv(\"governance-email-super-cleaned.csv\")\n",
    "print(df_emails_new.columns)\n",
    "print(df_prospects_email.columns)\n",
    "print(df_governance.columns)"
   ],
   "outputs": [
    {
     "name": "stdout",
     "output_type": "stream",
     "text": [
      "Index(['Emails', 'cc'], dtype='object')\n",
      "Index(['Emails', 'cc'], dtype='object')\n",
      "Index(['EMAILS ', 'cc'], dtype='object')\n"
     ]
    }
   ],
   "execution_count": 16
  },
  {
   "cell_type": "code",
   "metadata": {
    "ExecuteTime": {
     "end_time": "2025-03-14T07:41:17.604243Z",
     "start_time": "2025-03-14T07:41:17.600893Z"
    }
   },
   "source": [
    "print(\"Expected length after concating all should be: \", len(df_emails_new) + len(df_prospects_email) + len(df_governance_email))"
   ],
   "outputs": [
    {
     "name": "stdout",
     "output_type": "stream",
     "text": [
      "Expected length after concating all should be:  220\n"
     ]
    }
   ],
   "execution_count": 17
  },
  {
   "cell_type": "code",
   "metadata": {
    "ExecuteTime": {
     "end_time": "2025-03-14T07:41:17.656256Z",
     "start_time": "2025-03-14T07:41:17.650873Z"
    }
   },
   "source": [
    "df_combined = pd.concat([\n",
    "    df_emails_new[['Emails']], \n",
    "    df_prospects_email[['Emails']], \n",
    "    df_governance[['EMAILS ']]\n",
    "], axis=0)\n",
    "display(df_combined.shape)\n",
    "print(df_combined.head().to_markdown())"
   ],
   "outputs": [
    {
     "data": {
      "text/plain": [
       "(349, 2)"
      ]
     },
     "metadata": {},
     "output_type": "display_data"
    },
    {
     "name": "stdout",
     "output_type": "stream",
     "text": [
      "|    | Emails                   |   EMAILS  |\n",
      "|---:|:-------------------------|----------:|\n",
      "|  0 | swakiomaghanga@gmail.com |       nan |\n",
      "|  1 | nyonesaj12@yahoo.com     |       nan |\n",
      "|  2 | paulsimiyu74@gmail.com   |       nan |\n",
      "|  3 | mutiemota@gmail.com      |       nan |\n",
      "|  4 | velentiah80@yahoo.com    |       nan |\n"
     ]
    }
   ],
   "execution_count": 18
  },
  {
   "metadata": {
    "ExecuteTime": {
     "end_time": "2025-03-14T07:41:17.701265Z",
     "start_time": "2025-03-14T07:41:17.696427Z"
    }
   },
   "cell_type": "code",
   "source": [
    "df_combined.dropna(subset=[\"Emails\"], inplace=True)\n",
    "df_combined[\"cc\"] = \"info@ascent-institute.com\"\n",
    "df_combined.head()"
   ],
   "outputs": [
    {
     "data": {
      "text/plain": [
       "                     Emails EMAILS                          cc\n",
       "0  swakiomaghanga@gmail.com     NaN  info@ascent-institute.com\n",
       "1      nyonesaj12@yahoo.com     NaN  info@ascent-institute.com\n",
       "2    paulsimiyu74@gmail.com     NaN  info@ascent-institute.com\n",
       "3       mutiemota@gmail.com     NaN  info@ascent-institute.com\n",
       "4     velentiah80@yahoo.com     NaN  info@ascent-institute.com"
      ],
      "text/html": [
       "<div>\n",
       "<style scoped>\n",
       "    .dataframe tbody tr th:only-of-type {\n",
       "        vertical-align: middle;\n",
       "    }\n",
       "\n",
       "    .dataframe tbody tr th {\n",
       "        vertical-align: top;\n",
       "    }\n",
       "\n",
       "    .dataframe thead th {\n",
       "        text-align: right;\n",
       "    }\n",
       "</style>\n",
       "<table border=\"1\" class=\"dataframe\">\n",
       "  <thead>\n",
       "    <tr style=\"text-align: right;\">\n",
       "      <th></th>\n",
       "      <th>Emails</th>\n",
       "      <th>EMAILS</th>\n",
       "      <th>cc</th>\n",
       "    </tr>\n",
       "  </thead>\n",
       "  <tbody>\n",
       "    <tr>\n",
       "      <th>0</th>\n",
       "      <td>swakiomaghanga@gmail.com</td>\n",
       "      <td>NaN</td>\n",
       "      <td>info@ascent-institute.com</td>\n",
       "    </tr>\n",
       "    <tr>\n",
       "      <th>1</th>\n",
       "      <td>nyonesaj12@yahoo.com</td>\n",
       "      <td>NaN</td>\n",
       "      <td>info@ascent-institute.com</td>\n",
       "    </tr>\n",
       "    <tr>\n",
       "      <th>2</th>\n",
       "      <td>paulsimiyu74@gmail.com</td>\n",
       "      <td>NaN</td>\n",
       "      <td>info@ascent-institute.com</td>\n",
       "    </tr>\n",
       "    <tr>\n",
       "      <th>3</th>\n",
       "      <td>mutiemota@gmail.com</td>\n",
       "      <td>NaN</td>\n",
       "      <td>info@ascent-institute.com</td>\n",
       "    </tr>\n",
       "    <tr>\n",
       "      <th>4</th>\n",
       "      <td>velentiah80@yahoo.com</td>\n",
       "      <td>NaN</td>\n",
       "      <td>info@ascent-institute.com</td>\n",
       "    </tr>\n",
       "  </tbody>\n",
       "</table>\n",
       "</div>"
      ]
     },
     "execution_count": 19,
     "metadata": {},
     "output_type": "execute_result"
    }
   ],
   "execution_count": 19
  },
  {
   "cell_type": "code",
   "metadata": {
    "ExecuteTime": {
     "end_time": "2025-03-14T07:41:17.757697Z",
     "start_time": "2025-03-14T07:41:17.752501Z"
    }
   },
   "source": [
    "df_combined[\"cc\"] = \"info@ascent-institute.com\"\n",
    "# df_combined.dropna(subset=[\"EMAILS \"], inplace=True)\n",
    "df_combined.info()"
   ],
   "outputs": [
    {
     "name": "stdout",
     "output_type": "stream",
     "text": [
      "<class 'pandas.core.frame.DataFrame'>\n",
      "Index: 164 entries, 0 to 74\n",
      "Data columns (total 3 columns):\n",
      " #   Column   Non-Null Count  Dtype \n",
      "---  ------   --------------  ----- \n",
      " 0   Emails   164 non-null    object\n",
      " 1   EMAILS   0 non-null      object\n",
      " 2   cc       164 non-null    object\n",
      "dtypes: object(3)\n",
      "memory usage: 5.1+ KB\n"
     ]
    }
   ],
   "execution_count": 20
  },
  {
   "metadata": {
    "ExecuteTime": {
     "end_time": "2025-03-14T07:41:17.840243Z",
     "start_time": "2025-03-14T07:41:17.835856Z"
    }
   },
   "cell_type": "code",
   "source": [
    "df_combined.drop_duplicates(subset=[\"Emails\"], inplace=True)\n",
    "df_combined.tail()"
   ],
   "outputs": [
    {
     "data": {
      "text/plain": [
       "                                           Emails EMAILS   \\\n",
       "70                      miriam@scopeandimpact.com     NaN   \n",
       "71                          jkarasha@sanlam.co.ke     NaN   \n",
       "72                  james.waweru@apainsurance.org     NaN   \n",
       "73                   manan.desai@apainsurance.org     NaN   \n",
       "74  info@dimkessacco.co.ke , hr@dimkessacco.co.ke     NaN   \n",
       "\n",
       "                           cc  \n",
       "70  info@ascent-institute.com  \n",
       "71  info@ascent-institute.com  \n",
       "72  info@ascent-institute.com  \n",
       "73  info@ascent-institute.com  \n",
       "74  info@ascent-institute.com  "
      ],
      "text/html": [
       "<div>\n",
       "<style scoped>\n",
       "    .dataframe tbody tr th:only-of-type {\n",
       "        vertical-align: middle;\n",
       "    }\n",
       "\n",
       "    .dataframe tbody tr th {\n",
       "        vertical-align: top;\n",
       "    }\n",
       "\n",
       "    .dataframe thead th {\n",
       "        text-align: right;\n",
       "    }\n",
       "</style>\n",
       "<table border=\"1\" class=\"dataframe\">\n",
       "  <thead>\n",
       "    <tr style=\"text-align: right;\">\n",
       "      <th></th>\n",
       "      <th>Emails</th>\n",
       "      <th>EMAILS</th>\n",
       "      <th>cc</th>\n",
       "    </tr>\n",
       "  </thead>\n",
       "  <tbody>\n",
       "    <tr>\n",
       "      <th>70</th>\n",
       "      <td>miriam@scopeandimpact.com</td>\n",
       "      <td>NaN</td>\n",
       "      <td>info@ascent-institute.com</td>\n",
       "    </tr>\n",
       "    <tr>\n",
       "      <th>71</th>\n",
       "      <td>jkarasha@sanlam.co.ke</td>\n",
       "      <td>NaN</td>\n",
       "      <td>info@ascent-institute.com</td>\n",
       "    </tr>\n",
       "    <tr>\n",
       "      <th>72</th>\n",
       "      <td>james.waweru@apainsurance.org</td>\n",
       "      <td>NaN</td>\n",
       "      <td>info@ascent-institute.com</td>\n",
       "    </tr>\n",
       "    <tr>\n",
       "      <th>73</th>\n",
       "      <td>manan.desai@apainsurance.org</td>\n",
       "      <td>NaN</td>\n",
       "      <td>info@ascent-institute.com</td>\n",
       "    </tr>\n",
       "    <tr>\n",
       "      <th>74</th>\n",
       "      <td>info@dimkessacco.co.ke , hr@dimkessacco.co.ke</td>\n",
       "      <td>NaN</td>\n",
       "      <td>info@ascent-institute.com</td>\n",
       "    </tr>\n",
       "  </tbody>\n",
       "</table>\n",
       "</div>"
      ]
     },
     "execution_count": 21,
     "metadata": {},
     "output_type": "execute_result"
    }
   ],
   "execution_count": 21
  },
  {
   "cell_type": "code",
   "metadata": {
    "ExecuteTime": {
     "end_time": "2025-03-14T07:41:17.930060Z",
     "start_time": "2025-03-14T07:41:17.924907Z"
    }
   },
   "source": [
    "df_combined = df_combined.drop(columns=[\"EMAILS \"])\n",
    "df_combined.columns"
   ],
   "outputs": [
    {
     "data": {
      "text/plain": [
       "Index(['Emails', 'cc'], dtype='object')"
      ]
     },
     "execution_count": 22,
     "metadata": {},
     "output_type": "execute_result"
    }
   ],
   "execution_count": 22
  },
  {
   "metadata": {
    "ExecuteTime": {
     "end_time": "2025-03-14T07:48:42.329603Z",
     "start_time": "2025-03-14T07:48:42.325221Z"
    }
   },
   "cell_type": "code",
   "source": [
    "# Dropping emails that do are persistent yet they dont exist\n",
    "email_to_drop = [\"benard.mutua@royalmedia.co.ke\", \"info@dtdobie.co.ke\", \"imelda@kibandatopup.com\"]\n",
    "df_combined = df_combined[~df_combined[\"Emails\"].isin(email_to_drop)]"
   ],
   "outputs": [],
   "execution_count": 24
  },
  {
   "cell_type": "code",
   "metadata": {
    "ExecuteTime": {
     "end_time": "2025-03-14T07:48:45.746758Z",
     "start_time": "2025-03-14T07:48:45.741410Z"
    }
   },
   "source": [
    "df_combined.to_csv('combined-emails-cleaned.csv', index=False)"
   ],
   "outputs": [],
   "execution_count": 25
  },
  {
   "metadata": {},
   "cell_type": "code",
   "outputs": [],
   "execution_count": null,
   "source": ""
  }
 ],
 "metadata": {
  "kernelspec": {
   "display_name": ".venv",
   "language": "python",
   "name": "python3"
  },
  "language_info": {
   "codemirror_mode": {
    "name": "ipython",
    "version": 3
   },
   "file_extension": ".py",
   "mimetype": "text/x-python",
   "name": "python",
   "nbconvert_exporter": "python",
   "pygments_lexer": "ipython3",
   "version": "3.9.6"
  }
 },
 "nbformat": 4,
 "nbformat_minor": 2
}
