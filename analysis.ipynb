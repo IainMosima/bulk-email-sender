{
 "cells": [
  {
   "cell_type": "code",
   "execution_count": 22,
   "metadata": {},
   "outputs": [],
   "source": [
    "import pandas as pd"
   ]
  },
  {
   "cell_type": "code",
   "execution_count": 23,
   "metadata": {},
   "outputs": [
    {
     "name": "stdout",
     "output_type": "stream",
     "text": [
      "First few rows of the dataframe:\n",
      "|    | COMPANY_NAME    | DESIGNATION                   | PHONE_NUMBER    | EMAIL                       |\n",
      "|---:|:----------------|:------------------------------|:----------------|:----------------------------|\n",
      "|  0 | COMPANY NAME    | DESIGNATION                   | PHONE NUMBER    | EMAIL ADRESS                |\n",
      "|  1 | Bidco Africa    | regional sales head           | +254 67 2821000 | saurabh.suman@bidco-oil.com |\n",
      "|  2 | CCBA kenya      | country lead-Jennifer mbindyo | (011) 848-2600  | jmbindyo@ccbagroup.com      |\n",
      "|  3 | CIC Group       | General manager sales         | +254 703 099120 | njerenga@cic.co.ke          |\n",
      "|  4 | BRITAM HOLDINGS | CHAIRMAN                      | nan             | kmuchiru@britam.com         |\n",
      "\n",
      "Dataframe info:\n",
      "<class 'pandas.core.frame.DataFrame'>\n",
      "RangeIndex: 128 entries, 0 to 127\n",
      "Data columns (total 4 columns):\n",
      " #   Column        Non-Null Count  Dtype \n",
      "---  ------        --------------  ----- \n",
      " 0   COMPANY_NAME  89 non-null     object\n",
      " 1   DESIGNATION   118 non-null    object\n",
      " 2   PHONE_NUMBER  86 non-null     object\n",
      " 3   EMAIL         128 non-null    object\n",
      "dtypes: object(4)\n",
      "memory usage: 4.1+ KB\n",
      "None\n"
     ]
    }
   ],
   "source": [
    "# Read the CSV file\n",
    "df = pd.read_csv('/Users/apple/Desktop/Work/Ascent/bulk-email-sender/prospects-email.csv', \n",
    "                 skiprows=1,  # Skip the title row\n",
    "                 usecols=[1,2,3,4],  # Only use columns with actual data\n",
    "                 names=['COMPANY_NAME', 'DESIGNATION', 'PHONE_NUMBER', 'EMAIL'],  # Define column names\n",
    "                 na_values=[''])  # Convert empty strings to NaN\n",
    "\n",
    "# Clean the data\n",
    "df = df.dropna(subset=['EMAIL'])  # Remove rows without email addresses\n",
    "df = df.reset_index(drop=True)  # Reset the index\n",
    "\n",
    "# Display first few rows and basic information\n",
    "print(\"First few rows of the dataframe:\")\n",
    "print(df.head().to_markdown())\n",
    "print(\"\\nDataframe info:\")\n",
    "print(df.info())"
   ]
  },
  {
   "cell_type": "code",
   "execution_count": 24,
   "metadata": {},
   "outputs": [
    {
     "data": {
      "text/html": [
       "<div>\n",
       "<style scoped>\n",
       "    .dataframe tbody tr th:only-of-type {\n",
       "        vertical-align: middle;\n",
       "    }\n",
       "\n",
       "    .dataframe tbody tr th {\n",
       "        vertical-align: top;\n",
       "    }\n",
       "\n",
       "    .dataframe thead th {\n",
       "        text-align: right;\n",
       "    }\n",
       "</style>\n",
       "<table border=\"1\" class=\"dataframe\">\n",
       "  <thead>\n",
       "    <tr style=\"text-align: right;\">\n",
       "      <th></th>\n",
       "      <th>COMPANY_NAME</th>\n",
       "      <th>DESIGNATION</th>\n",
       "      <th>PHONE_NUMBER</th>\n",
       "      <th>EMAIL</th>\n",
       "    </tr>\n",
       "  </thead>\n",
       "  <tbody>\n",
       "    <tr>\n",
       "      <th>0</th>\n",
       "      <td>Bidco Africa</td>\n",
       "      <td>regional sales head</td>\n",
       "      <td>+254 67 2821000</td>\n",
       "      <td>saurabh.suman@bidco-oil.com</td>\n",
       "    </tr>\n",
       "    <tr>\n",
       "      <th>1</th>\n",
       "      <td>CCBA kenya</td>\n",
       "      <td>country lead-Jennifer mbindyo</td>\n",
       "      <td>(011) 848-2600</td>\n",
       "      <td>jmbindyo@ccbagroup.com</td>\n",
       "    </tr>\n",
       "    <tr>\n",
       "      <th>2</th>\n",
       "      <td>CIC Group</td>\n",
       "      <td>General manager sales</td>\n",
       "      <td>+254 703 099120</td>\n",
       "      <td>njerenga@cic.co.ke</td>\n",
       "    </tr>\n",
       "    <tr>\n",
       "      <th>3</th>\n",
       "      <td>BRITAM HOLDINGS</td>\n",
       "      <td>CHAIRMAN</td>\n",
       "      <td>NaN</td>\n",
       "      <td>kmuchiru@britam.com</td>\n",
       "    </tr>\n",
       "    <tr>\n",
       "      <th>4</th>\n",
       "      <td>LIBERTY INSURANCE</td>\n",
       "      <td>head of customer experience</td>\n",
       "      <td>+254 711 028000</td>\n",
       "      <td>angela.rarieya@libertylife.co.ke</td>\n",
       "    </tr>\n",
       "  </tbody>\n",
       "</table>\n",
       "</div>"
      ],
      "text/plain": [
       "        COMPANY_NAME                    DESIGNATION     PHONE_NUMBER  \\\n",
       "0       Bidco Africa            regional sales head  +254 67 2821000   \n",
       "1         CCBA kenya  country lead-Jennifer mbindyo   (011) 848-2600   \n",
       "2          CIC Group          General manager sales  +254 703 099120   \n",
       "3    BRITAM HOLDINGS                       CHAIRMAN              NaN   \n",
       "4  LIBERTY INSURANCE    head of customer experience  +254 711 028000   \n",
       "\n",
       "                              EMAIL  \n",
       "0       saurabh.suman@bidco-oil.com  \n",
       "1            jmbindyo@ccbagroup.com  \n",
       "2                njerenga@cic.co.ke  \n",
       "3               kmuchiru@britam.com  \n",
       "4  angela.rarieya@libertylife.co.ke  "
      ]
     },
     "execution_count": 24,
     "metadata": {},
     "output_type": "execute_result"
    }
   ],
   "source": [
    "df = df.iloc[1:].reset_index(drop=True)\n",
    "df.head()"
   ]
  },
  {
   "cell_type": "code",
   "execution_count": 25,
   "metadata": {},
   "outputs": [
    {
     "data": {
      "text/html": [
       "<div>\n",
       "<style scoped>\n",
       "    .dataframe tbody tr th:only-of-type {\n",
       "        vertical-align: middle;\n",
       "    }\n",
       "\n",
       "    .dataframe tbody tr th {\n",
       "        vertical-align: top;\n",
       "    }\n",
       "\n",
       "    .dataframe thead th {\n",
       "        text-align: right;\n",
       "    }\n",
       "</style>\n",
       "<table border=\"1\" class=\"dataframe\">\n",
       "  <thead>\n",
       "    <tr style=\"text-align: right;\">\n",
       "      <th></th>\n",
       "      <th>EMAIL</th>\n",
       "    </tr>\n",
       "  </thead>\n",
       "  <tbody>\n",
       "    <tr>\n",
       "      <th>0</th>\n",
       "      <td>saurabh.suman@bidco-oil.com</td>\n",
       "    </tr>\n",
       "    <tr>\n",
       "      <th>1</th>\n",
       "      <td>jmbindyo@ccbagroup.com</td>\n",
       "    </tr>\n",
       "    <tr>\n",
       "      <th>2</th>\n",
       "      <td>njerenga@cic.co.ke</td>\n",
       "    </tr>\n",
       "    <tr>\n",
       "      <th>3</th>\n",
       "      <td>kmuchiru@britam.com</td>\n",
       "    </tr>\n",
       "    <tr>\n",
       "      <th>4</th>\n",
       "      <td>angela.rarieya@libertylife.co.ke</td>\n",
       "    </tr>\n",
       "  </tbody>\n",
       "</table>\n",
       "</div>"
      ],
      "text/plain": [
       "                              EMAIL\n",
       "0       saurabh.suman@bidco-oil.com\n",
       "1            jmbindyo@ccbagroup.com\n",
       "2                njerenga@cic.co.ke\n",
       "3               kmuchiru@britam.com\n",
       "4  angela.rarieya@libertylife.co.ke"
      ]
     },
     "execution_count": 25,
     "metadata": {},
     "output_type": "execute_result"
    }
   ],
   "source": [
    "df_prospects_email = df[[\"EMAIL\"]]\n",
    "df_prospects_email.head()"
   ]
  },
  {
   "cell_type": "code",
   "execution_count": 26,
   "metadata": {},
   "outputs": [
    {
     "data": {
      "text/plain": [
       "EMAIL    0\n",
       "dtype: int64"
      ]
     },
     "execution_count": 26,
     "metadata": {},
     "output_type": "execute_result"
    }
   ],
   "source": [
    "df_prospects_email.isna().sum()"
   ]
  },
  {
   "cell_type": "code",
   "execution_count": 27,
   "metadata": {},
   "outputs": [
    {
     "data": {
      "text/html": [
       "<div>\n",
       "<style scoped>\n",
       "    .dataframe tbody tr th:only-of-type {\n",
       "        vertical-align: middle;\n",
       "    }\n",
       "\n",
       "    .dataframe tbody tr th {\n",
       "        vertical-align: top;\n",
       "    }\n",
       "\n",
       "    .dataframe thead th {\n",
       "        text-align: right;\n",
       "    }\n",
       "</style>\n",
       "<table border=\"1\" class=\"dataframe\">\n",
       "  <thead>\n",
       "    <tr style=\"text-align: right;\">\n",
       "      <th></th>\n",
       "      <th>EMAIL</th>\n",
       "    </tr>\n",
       "  </thead>\n",
       "  <tbody>\n",
       "    <tr>\n",
       "      <th>0</th>\n",
       "      <td>saurabh.suman@bidco-oil.com</td>\n",
       "    </tr>\n",
       "    <tr>\n",
       "      <th>1</th>\n",
       "      <td>jmbindyo@ccbagroup.com</td>\n",
       "    </tr>\n",
       "    <tr>\n",
       "      <th>2</th>\n",
       "      <td>njerenga@cic.co.ke</td>\n",
       "    </tr>\n",
       "    <tr>\n",
       "      <th>3</th>\n",
       "      <td>kmuchiru@britam.com</td>\n",
       "    </tr>\n",
       "    <tr>\n",
       "      <th>4</th>\n",
       "      <td>angela.rarieya@libertylife.co.ke</td>\n",
       "    </tr>\n",
       "  </tbody>\n",
       "</table>\n",
       "</div>"
      ],
      "text/plain": [
       "                              EMAIL\n",
       "0       saurabh.suman@bidco-oil.com\n",
       "1            jmbindyo@ccbagroup.com\n",
       "2                njerenga@cic.co.ke\n",
       "3               kmuchiru@britam.com\n",
       "4  angela.rarieya@libertylife.co.ke"
      ]
     },
     "execution_count": 27,
     "metadata": {},
     "output_type": "execute_result"
    }
   ],
   "source": [
    "df_prospects_email.loc[:, \"EMAIL\"] = df_prospects_email[\"EMAIL\"].str.strip().str.lower()\n",
    "df_prospects_email.head()"
   ]
  },
  {
   "cell_type": "code",
   "execution_count": 28,
   "metadata": {},
   "outputs": [
    {
     "data": {
      "text/plain": [
       "Index(['EMAILS'], dtype='object')"
      ]
     },
     "execution_count": 28,
     "metadata": {},
     "output_type": "execute_result"
    }
   ],
   "source": [
    "df_prospects_email = df_prospects_email.rename(columns={\"EMAIL\": \"EMAILS\"})\n",
    "df_prospects_email.columns"
   ]
  },
  {
   "cell_type": "code",
   "execution_count": 30,
   "metadata": {},
   "outputs": [
    {
     "data": {
      "text/plain": [
       "np.int64(0)"
      ]
     },
     "execution_count": 30,
     "metadata": {},
     "output_type": "execute_result"
    }
   ],
   "source": [
    "df_prospects_email.duplicated().sum()"
   ]
  },
  {
   "cell_type": "code",
   "execution_count": 33,
   "metadata": {},
   "outputs": [
    {
     "data": {
      "text/html": [
       "<div>\n",
       "<style scoped>\n",
       "    .dataframe tbody tr th:only-of-type {\n",
       "        vertical-align: middle;\n",
       "    }\n",
       "\n",
       "    .dataframe tbody tr th {\n",
       "        vertical-align: top;\n",
       "    }\n",
       "\n",
       "    .dataframe thead th {\n",
       "        text-align: right;\n",
       "    }\n",
       "</style>\n",
       "<table border=\"1\" class=\"dataframe\">\n",
       "  <thead>\n",
       "    <tr style=\"text-align: right;\">\n",
       "      <th></th>\n",
       "      <th>EMAILS</th>\n",
       "      <th>cc</th>\n",
       "    </tr>\n",
       "  </thead>\n",
       "  <tbody>\n",
       "    <tr>\n",
       "      <th>0</th>\n",
       "      <td>saurabh.suman@bidco-oil.com</td>\n",
       "      <td>info@ascent-institute.com</td>\n",
       "    </tr>\n",
       "    <tr>\n",
       "      <th>1</th>\n",
       "      <td>jmbindyo@ccbagroup.com</td>\n",
       "      <td>info@ascent-institute.com</td>\n",
       "    </tr>\n",
       "    <tr>\n",
       "      <th>2</th>\n",
       "      <td>njerenga@cic.co.ke</td>\n",
       "      <td>info@ascent-institute.com</td>\n",
       "    </tr>\n",
       "    <tr>\n",
       "      <th>3</th>\n",
       "      <td>kmuchiru@britam.com</td>\n",
       "      <td>info@ascent-institute.com</td>\n",
       "    </tr>\n",
       "    <tr>\n",
       "      <th>4</th>\n",
       "      <td>angela.rarieya@libertylife.co.ke</td>\n",
       "      <td>info@ascent-institute.com</td>\n",
       "    </tr>\n",
       "  </tbody>\n",
       "</table>\n",
       "</div>"
      ],
      "text/plain": [
       "                             EMAILS                         cc\n",
       "0       saurabh.suman@bidco-oil.com  info@ascent-institute.com\n",
       "1            jmbindyo@ccbagroup.com  info@ascent-institute.com\n",
       "2                njerenga@cic.co.ke  info@ascent-institute.com\n",
       "3               kmuchiru@britam.com  info@ascent-institute.com\n",
       "4  angela.rarieya@libertylife.co.ke  info@ascent-institute.com"
      ]
     },
     "execution_count": 33,
     "metadata": {},
     "output_type": "execute_result"
    }
   ],
   "source": [
    "df_prospects_email[\"cc\"] = \"info@ascent-institute.com\"\n",
    "df_prospects_email.head()"
   ]
  },
  {
   "cell_type": "code",
   "execution_count": 35,
   "metadata": {},
   "outputs": [
    {
     "data": {
      "text/plain": [
       "(127, 2)"
      ]
     },
     "execution_count": 35,
     "metadata": {},
     "output_type": "execute_result"
    }
   ],
   "source": [
    "df_prospects_email.shape"
   ]
  },
  {
   "cell_type": "code",
   "execution_count": 34,
   "metadata": {},
   "outputs": [],
   "source": [
    "df_prospects_email.to_csv('prospects-email-cleaned.csv', index=False)"
   ]
  },
  {
   "cell_type": "code",
   "execution_count": null,
   "metadata": {},
   "outputs": [],
   "source": []
  }
 ],
 "metadata": {
  "kernelspec": {
   "display_name": ".venv",
   "language": "python",
   "name": "python3"
  },
  "language_info": {
   "codemirror_mode": {
    "name": "ipython",
    "version": 3
   },
   "file_extension": ".py",
   "mimetype": "text/x-python",
   "name": "python",
   "nbconvert_exporter": "python",
   "pygments_lexer": "ipython3",
   "version": "3.9.6"
  }
 },
 "nbformat": 4,
 "nbformat_minor": 2
}
