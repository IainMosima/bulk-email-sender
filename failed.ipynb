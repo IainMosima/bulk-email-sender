{
 "cells": [
  {
   "cell_type": "code",
   "metadata": {
    "ExecuteTime": {
     "end_time": "2025-03-14T07:43:21.734149Z",
     "start_time": "2025-03-14T07:43:21.732237Z"
    }
   },
   "source": [
    "import pandas as pd"
   ],
   "outputs": [],
   "execution_count": 3
  },
  {
   "cell_type": "code",
   "metadata": {
    "ExecuteTime": {
     "end_time": "2025-03-14T07:43:25.357894Z",
     "start_time": "2025-03-14T07:43:25.350899Z"
    }
   },
   "source": [
    "import re\n",
    "log_file_path = \"bulk-email-sender.log\"\n",
    "failed_emails = []\n",
    "with open(log_file_path, 'r') as file:\n",
    "    for line in file:\n",
    "        if 'ERROR - Failed to send email to' in line:\n",
    "            email = re.search(r'Failed to send email to (.*?):', line).group(1)\n",
    "            failed_emails.append(email)\n",
    "df_failed_emails_prospects = pd.DataFrame(failed_emails, columns=['Failed Emails'])\n",
    "print(df_failed_emails_prospects.head().to_markdown())"
   ],
   "outputs": [
    {
     "name": "stdout",
     "output_type": "stream",
     "text": [
      "| Failed Emails   |\n",
      "|-----------------|\n"
     ]
    }
   ],
   "execution_count": 5
  },
  {
   "cell_type": "code",
   "execution_count": 29,
   "metadata": {},
   "outputs": [
    {
     "name": "stdout",
     "output_type": "stream",
     "text": [
      "Number of failed emails in pension:  238\n",
      "['catherine@k-unity.co.ke', 'jndiritu@k-unity.co.ke', 'ernest.gateri@ke.grassavoye.com', 'kntc@kntc.go.ke', 'info@klb.co.ke', 'ernest.gateri@ke.grassavoye.com', 'recruiting@hjfmri.org', 'catherine@k-unity.co.ke', 'jndiritu@k-unity.co.ke', 'ernest.gateri@ke.grassavoye.com']\n"
     ]
    }
   ],
   "source": [
    "df_failed_emails_prospects[\"Failed Emails\"] = df_failed_emails_prospects[\"Failed Emails\"].str.extract(r'([\\w\\.-]+@[\\w\\.-]+)')\n",
    "failed_emails_prospects = df_failed_emails_prospects[\"Failed Emails\"].str.strip('.').tolist()\n",
    "print(\"Number of failed emails in pension: \", len(failed_emails_prospects))\n",
    "print(failed_emails_prospects[:10])"
   ]
  },
  {
   "cell_type": "code",
   "execution_count": 32,
   "metadata": {},
   "outputs": [
    {
     "name": "stdout",
     "output_type": "stream",
     "text": [
      "Number of records before dropping failed emails:  185\n",
      "Number of records after dropping failed emails:  56\n",
      "|    | Emails                             | cc                        |\n",
      "|---:|:-----------------------------------|:--------------------------|\n",
      "|  0 | info@cargen.com                    | info@ascent-institute.com |\n",
      "|  1 | elizabeth@charteredengineering.com | info@ascent-institute.com |\n",
      "|  2 | info@firstlenders.co.ke            | info@ascent-institute.com |\n",
      "|  3 | amina@blackwoodhodge.com           | info@ascent-institute.com |\n",
      "|  4 | sales@hydromaticsea.com            | info@ascent-institute.com |\n",
      "\n",
      "Cleaned data saved to prospects-email-cleaned.csv\n"
     ]
    }
   ],
   "source": [
    "df_governance = pd.read_csv('governance-email-cleaned.csv')\n",
    "print(\"Number of records before dropping failed emails: \", len(df_governance))\n",
    "df_governance_cleaned = df_governance.copy()\n",
    "df_governance_cleaned = df_governance_cleaned[~df_governance_cleaned['Emails'].str.strip().isin(failed_emails_prospects)]\n",
    "print(\"Number of records after dropping failed emails: \", len(df_governance_cleaned))\n",
    "print(df_governance_cleaned.head().to_markdown())\n",
    "\n",
    "# Save the cleaned data to a new CSV file\n",
    "df_governance_cleaned.to_csv('governance-email-super-cleaned.csv', index=False)\n",
    "print(\"\\nCleaned data saved to prospects-email-cleaned.csv\")"
   ]
  },
  {
   "cell_type": "code",
   "execution_count": 34,
   "metadata": {},
   "outputs": [
    {
     "name": "stdout",
     "output_type": "stream",
     "text": [
      "Number of records before dropping failed emails:  127\n",
      "Number of records after dropping failed emails:  75\n",
      "|    | Emails                           | cc                        |\n",
      "|---:|:---------------------------------|:--------------------------|\n",
      "|  0 | saurabh.suman@bidco-oil.com      | info@ascent-institute.com |\n",
      "|  1 | jmbindyo@ccbagroup.com           | info@ascent-institute.com |\n",
      "|  2 | njerenga@cic.co.ke               | info@ascent-institute.com |\n",
      "|  3 | kmuchiru@britam.com              | info@ascent-institute.com |\n",
      "|  4 | angela.rarieya@libertylife.co.ke | info@ascent-institute.com |\n",
      "\n",
      "Cleaned data saved to prospects-email-cleaned.csv\n"
     ]
    }
   ],
   "source": [
    "df_prospects = pd.read_csv('prospects-email-cleaned.csv')\n",
    "print(\"Number of records before dropping failed emails: \", len(df_prospects))\n",
    "df_prospects_cleaned = df_prospects.copy()\n",
    "df_prospects_cleaned = df_prospects_cleaned[~df_prospects_cleaned['Emails'].str.strip().isin(failed_emails_prospects)]\n",
    "print(\"Number of records after dropping failed emails: \", len(df_prospects_cleaned))\n",
    "print(df_prospects_cleaned.head().to_markdown())\n",
    "\n",
    "# Save the cleaned data to a new CSV file\n",
    "df_prospects_cleaned.to_csv('prospects-email-super-cleaned.csv', index=False)\n",
    "print(\"\\nCleaned data saved to prospects-email-cleaned.csv\")"
   ]
  },
  {
   "cell_type": "code",
   "execution_count": null,
   "metadata": {},
   "outputs": [],
   "source": []
  }
 ],
 "metadata": {
  "kernelspec": {
   "display_name": ".venv",
   "language": "python",
   "name": "python3"
  },
  "language_info": {
   "codemirror_mode": {
    "name": "ipython",
    "version": 3
   },
   "file_extension": ".py",
   "mimetype": "text/x-python",
   "name": "python",
   "nbconvert_exporter": "python",
   "pygments_lexer": "ipython3",
   "version": "3.9.6"
  }
 },
 "nbformat": 4,
 "nbformat_minor": 2
}
